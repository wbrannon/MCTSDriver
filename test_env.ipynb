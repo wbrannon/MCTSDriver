{
 "cells": [
  {
   "cell_type": "code",
   "execution_count": 40,
   "metadata": {},
   "outputs": [
    {
     "data": {
      "text/plain": [
       "create_env (generic function with 1 method)"
      ]
     },
     "execution_count": 40,
     "metadata": {},
     "output_type": "execute_result"
    }
   ],
   "source": [
    "include(\"lane_change_env.jl\")"
   ]
  },
  {
   "cell_type": "code",
   "execution_count": 41,
   "metadata": {},
   "outputs": [
    {
     "name": "stdout",
     "output_type": "stream",
     "text": [
      "\"true\" = \"true\"\n",
      "spots_taken = Tuple{Int64,Float64}[(0, 0.0)]\n",
      "spots_taken = Tuple{Int64,Float64}[(0, 0.0), (2, 60.0)]\n",
      "\"true\" = \"true\"\n",
      "spots_taken = Tuple{Int64,Float64}[(0, 0.0), (2, 60.0)]\n",
      "spots_taken = Tuple{Int64,Float64}[(0, 0.0), (2, 60.0), (4, 90.0)]\n",
      "\"true\" = \"true\"\n",
      "spots_taken = Tuple{Int64,Float64}[(0, 0.0), (2, 60.0), (4, 90.0)]\n",
      "spots_taken = Tuple{Int64,Float64}[(0, 0.0), (2, 60.0), (4, 90.0), (3, 200.0)]\n",
      "\"true\" = \"true\"\n",
      "spots_taken = Tuple{Int64,Float64}[(0, 0.0), (2, 60.0), (4, 90.0), (3, 200.0)]\n",
      "spots_taken = Tuple{Int64,Float64}[(0, 0.0), (2, 60.0), (4, 90.0), (3, 200.0), (2, 110.0)]\n",
      "\"true\" = \"true\"\n",
      "spots_taken = Tuple{Int64,Float64}[(0, 0.0), (2, 60.0), (4, 90.0), (3, 200.0), (2, 110.0)]\n",
      "spots_taken = Tuple{Int64,Float64}[(0, 0.0), (2, 60.0), (4, 90.0), (3, 200.0), (2, 110.0), (3, 170.0)]\n"
     ]
    },
    {
     "data": {
      "text/plain": [
       "(Scene(with 5 cars), Roadway)"
      ]
     },
     "execution_count": 41,
     "metadata": {},
     "output_type": "execute_result"
    }
   ],
   "source": [
    "ncars = 5\n",
    "nlanes = 4\n",
    "road_length = 200.\n",
    "\n",
    "scene, roadway = create_env(ncars, nlanes, road_length)"
   ]
  },
  {
   "cell_type": "code",
   "execution_count": 42,
   "metadata": {},
   "outputs": [
    {
     "data": {
      "image/png": "[encoded data removed]",
      "text/plain": [
       "Cairo.CairoSurfaceBase{UInt32}(Ptr{Nothing} @0x00007fd2366a4f80, 1000.0, 100.0)"
      ]
     },
     "execution_count": 42,
     "metadata": {},
     "output_type": "execute_result"
    }
   ],
   "source": [
    "cam = StaticCamera(VecE2(100.0,0.0), 4.75)\n",
    "render(scene, roadway, cam=cam, canvas_height=100)"
   ]
  },
  {
   "cell_type": "code",
   "execution_count": null,
   "metadata": {},
   "outputs": [],
   "source": []
  }
 ],
 "metadata": {
  "@webio": {
   "lastCommId": null,
   "lastKernelId": null
  },
  "kernelspec": {
   "display_name": "Julia 1.2.0",
   "language": "julia",
   "name": "julia-1.2"
  },
  "language_info": {
   "file_extension": ".jl",
   "mimetype": "application/julia",
   "name": "julia",
   "version": "1.2.0"
  }
 },
 "nbformat": 4,
 "nbformat_minor": 2
}
