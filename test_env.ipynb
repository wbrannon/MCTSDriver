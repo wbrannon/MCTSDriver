{
 "cells": [
  {
   "cell_type": "code",
   "execution_count": 85,
   "metadata": {},
   "outputs": [
    {
     "data": {
      "text/plain": [
       "get_actions (generic function with 1 method)"
      ]
     },
     "execution_count": 85,
     "metadata": {},
     "output_type": "execute_result"
    }
   ],
   "source": [
    "using AutomotiveDrivingModels\n",
    "using AutoViz\n",
    "include(\"lane_change_env.jl\")\n",
    "include(\"action_space.jl\")"
   ]
  },
  {
   "cell_type": "code",
   "execution_count": 99,
   "metadata": {},
   "outputs": [
    {
     "data": {
      "text/plain": [
       "(Scene(with 10 cars), Roadway)"
      ]
     },
     "execution_count": 99,
     "metadata": {},
     "output_type": "execute_result"
    }
   ],
   "source": [
    "ncars = 10\n",
    "nlanes = 4\n",
    "road_length = 200.\n",
    "\n",
    "scene, roadway = create_env(ncars, nlanes, road_length)"
   ]
  },
  {
   "cell_type": "code",
   "execution_count": 100,
   "metadata": {},
   "outputs": [
    {
     "data": {
      "image/png": "[encoded data removed]",
      "text/plain": [
       "Cairo.CairoSurfaceBase{UInt32}(Ptr{Nothing} @0x00007fbe5f5d9860, 1000.0, 100.0)"
      ]
     },
     "execution_count": 100,
     "metadata": {},
     "output_type": "execute_result"
    }
   ],
   "source": [
    "cam = StaticCamera(VecE2(100.0,0.0), 4.75)\n",
    "render(scene, roadway, cam=cam, canvas_height=100)"
   ]
  },
  {
   "cell_type": "code",
   "execution_count": 101,
   "metadata": {},
   "outputs": [
    {
     "data": {
      "text/plain": [
       "Scene(with 11 cars)"
      ]
     },
     "execution_count": 101,
     "metadata": {},
     "output_type": "execute_result"
    }
   ],
   "source": [
    "# create ego vehicle\n",
    "# change color of ego vehicle\n",
    "# define ego vehicle behavior model\n",
    "# run safe action space algorithm and make sure that the output is what we think it will be\n",
    "# - make sure that the safe acceleration/lane-change combinations are correct\n",
    "curve = roadway[1].lanes[1].curve\n",
    "posG = VecSE2(0., 0., 0.)\n",
    "lane = Lane(LaneTag(1, 1), curve)\n",
    "posF = Frenet(posG, lane, roadway)\n",
    "curr_vel = 30.\n",
    "car_initial_state = VehicleState(posF, roadway, curr_vel)\n",
    "ego = Vehicle(car_initial_state, VehicleDef(), ncars+1)\n",
    "push!(scene, ego)"
   ]
  },
  {
   "cell_type": "code",
   "execution_count": 102,
   "metadata": {},
   "outputs": [
    {
     "data": {
      "image/png": "[encoded data removed]",
      "text/plain": [
       "Cairo.CairoSurfaceBase{UInt32}(Ptr{Nothing} @0x00007fbe5f5dee20, 1000.0, 100.0)"
      ]
     },
     "execution_count": 102,
     "metadata": {},
     "output_type": "execute_result"
    }
   ],
   "source": [
    "cam = StaticCamera(VecE2(100.0,0.0), 4.75)\n",
    "render(scene, roadway, cam=cam, canvas_height=100)"
   ]
  },
  {
   "cell_type": "code",
   "execution_count": 103,
   "metadata": {},
   "outputs": [
    {
     "data": {
      "text/plain": [
       "lat_lon_driver(IntelligentDriverModel\n",
       "  a: Float64 NaN\n",
       "  σ: Float64 NaN\n",
       "  k_spd: Float64 1.0\n",
       "  δ: Float64 4.0\n",
       "  T: Float64 1.5\n",
       "  v_des: Float64 30.0\n",
       "  s_min: Float64 5.0\n",
       "  a_max: Float64 3.0\n",
       "  d_cmf: Float64 2.0\n",
       "  d_max: Float64 9.0\n",
       ", ProportionalLaneTracker\n",
       "  a: Float64 NaN\n",
       "  σ: Float64 NaN\n",
       "  kp: Float64 3.0\n",
       "  kd: Float64 2.0\n",
       ", MOBIL\n",
       "  dir: Int64 0\n",
       "  rec: QueueRecord{Entity{VehicleState,VehicleDef,Int64}}\n",
       "  mlon: IntelligentDriverModel\n",
       "  safe_decel: Float64 2.0\n",
       "  politeness: Float64 0.35\n",
       "  advantage_threshold: Float64 0.1\n",
       ")"
      ]
     },
     "execution_count": 103,
     "metadata": {},
     "output_type": "execute_result"
    }
   ],
   "source": [
    "models = Dict{Int, DriverModel}()\n",
    "for i in 1:ncars\n",
    "    models[i] = IntelligentDriverModel(v_des=scene[i].state.v)\n",
    "end\n",
    "models[ncars + 1] = lat_lon_driver(curr_vel, 0.1)"
   ]
  },
  {
   "cell_type": "code",
   "execution_count": 104,
   "metadata": {},
   "outputs": [
    {
     "name": "stdout",
     "output_type": "stream",
     "text": [
      "actions = Dict{Any,Any}(\"normal_straight\" => true,\"slow_right\" => false,\"speed_left\" => true,\"speed_right\" => false,\"speed_straight\" => true,\"slow_straight\" => true,\"slow_left\" => true,\"normal_right\" => false,\"normal_left\" => true)\n"
     ]
    },
    {
     "data": {
      "text/plain": [
       "Dict{Any,Any} with 9 entries:\n",
       "  \"normal_straight\" => true\n",
       "  \"slow_right\"      => false\n",
       "  \"speed_left\"      => true\n",
       "  \"speed_right\"     => false\n",
       "  \"speed_straight\"  => true\n",
       "  \"slow_straight\"   => true\n",
       "  \"slow_left\"       => true\n",
       "  \"normal_right\"    => false\n",
       "  \"normal_left\"     => true"
      ]
     },
     "execution_count": 104,
     "metadata": {},
     "output_type": "execute_result"
    }
   ],
   "source": [
    "actions = get_actions(models[ncars+1], scene, roadway, ncars+1)\n",
    "@show actions"
   ]
  },
  {
   "cell_type": "code",
   "execution_count": null,
   "metadata": {},
   "outputs": [],
   "source": []
  },
  {
   "cell_type": "code",
   "execution_count": 106,
   "metadata": {},
   "outputs": [
    {
     "name": "stdout",
     "output_type": "stream",
     "text": [
      "((roadway.segments[1]).lanes[end]).tag.lane = 4\n",
      "(scene[ncars + 1]).state.posF.roadind.tag.lane = 1\n"
     ]
    },
    {
     "data": {
      "text/plain": [
       "1"
      ]
     },
     "execution_count": 106,
     "metadata": {},
     "output_type": "execute_result"
    }
   ],
   "source": [
    "# a few useful things to extract info - might be in one of the get() functions\n",
    "@show roadway.segments[1].lanes[end].tag.lane\n",
    "@show scene[ncars+1].state.posF.roadind.tag.lane"
   ]
  },
  {
   "cell_type": "code",
   "execution_count": null,
   "metadata": {},
   "outputs": [],
   "source": []
  }
 ],
 "metadata": {
  "@webio": {
   "lastCommId": null,
   "lastKernelId": null
  },
  "kernelspec": {
   "display_name": "Julia 1.2.0",
   "language": "julia",
   "name": "julia-1.2"
  },
  "language_info": {
   "file_extension": ".jl",
   "mimetype": "application/julia",
   "name": "julia",
   "version": "1.2.0"
  }
 },
 "nbformat": 4,
 "nbformat_minor": 2
}
