{
 "cells": [
  {
   "cell_type": "code",
   "execution_count": 455,
   "metadata": {},
   "outputs": [
    {
     "data": {
      "text/plain": [
       "simulate_pomdp (generic function with 1 method)"
      ]
     },
     "execution_count": 455,
     "metadata": {},
     "output_type": "execute_result"
    }
   ],
   "source": [
    "include(\"sim.jl\")"
   ]
  },
  {
   "cell_type": "code",
   "execution_count": null,
   "metadata": {},
   "outputs": [
    {
     "name": "stdout",
     "output_type": "stream",
     "text": [
      "mdp.model.long_model.a = 0.0\n",
      "mdp.model.long_model.a = -1.0\n",
      "mdp.model.long_model.a = -1.0\n",
      "mdp.model.long_model.a = -1.0\n",
      "mdp.model.long_model.a = -1.0\n",
      "mdp.model.long_model.a = -1.0\n",
      "mdp.model.long_model.a = -1.0\n",
      "mdp.model.long_model.a = -1.0\n",
      "mdp.model.long_model.a = -1.0\n",
      "mdp.model.long_model.a = -2.0\n",
      "mdp.model.long_model.a = -2.0\n",
      "mdp.model.long_model.a = -2.0\n",
      "mdp.model.long_model.a = -2.0\n",
      "mdp.model.long_model.a = -2.0\n",
      "mdp.model.long_model.a = -2.0\n",
      "mdp.model.long_model.a = -2.0\n",
      "mdp.model.long_model.a = -2.0\n",
      "mdp.model.long_model.a = -2.0\n",
      "mdp.model.long_model.a = -2.0\n",
      "mdp.model.long_model.a = -2.0\n",
      "mdp.model.long_model.a = -2.0\n",
      "mdp.model.long_model.a = -2.0\n",
      "mdp.model.long_model.a = -2.0\n",
      "mdp.model.long_model.a = -2.0\n",
      "mdp.model.long_model.a = 0.0\n",
      "mdp.model.long_model.a = 0.0\n",
      "mdp.model.long_model.a = 0.0\n",
      "mdp.model.long_model.a = 0.0\n",
      "mdp.model.long_model.a = 0.0\n",
      "mdp.model.long_model.a = 0.0\n",
      "mdp.model.long_model.a = 0.0\n",
      "mdp.model.long_model.a = -1.0\n",
      "mdp.model.long_model.a = -1.0\n",
      "mdp.model.long_model.a = -1.0\n",
      "mdp.model.long_model.a = -1.0\n",
      "mdp.model.long_model.a = -1.0\n",
      "mdp.model.long_model.a = -1.0\n",
      "mdp.model.long_model.a = -1.0\n",
      "mdp.model.long_model.a = -1.0\n",
      "mdp.model.long_model.a = -2.0\n",
      "mdp.model.long_model.a = -2.0\n",
      "mdp.model.long_model.a = -2.0\n",
      "mdp.model.long_model.a = -2.0\n",
      "mdp.model.long_model.a = -2.0\n",
      "mdp.model.long_model.a = -2.0\n",
      "mdp.model.long_model.a = "
     ]
    }
   ],
   "source": [
    "@time roadway, policy, scenes, headings = simulate_pomdp()"
   ]
  },
  {
   "cell_type": "code",
   "execution_count": 449,
   "metadata": {},
   "outputs": [
    {
     "name": "stdout",
     "output_type": "stream",
     "text": [
      "(get_lane(roadway, (scenes[end])[1])).tag.lane = 3\n",
      "length(scenes) = 99\n"
     ]
    },
    {
     "data": {
      "image/png": "[encoded data removed]",
      "text/plain": [
       "Cairo.CairoSurfaceIOStream{UInt32}(Ptr{Nothing} @0x00007ff8864fbca0, 1000.0, 600.0, IOBuffer(data=UInt8[...], readable=true, writable=true, seekable=true, append=false, size=0, maxsize=Inf, ptr=1, mark=-1))"
      ]
     },
     "execution_count": 449,
     "metadata": {},
     "output_type": "execute_result"
    }
   ],
   "source": [
    "@show get_lane(roadway, scenes[end][1]).tag.lane\n",
    "@show length(scenes)\n",
    "car_colors = Dict{Int,Colorant}(1 => colorant\"0x52E3F6\")\n",
    "render(scenes[end], roadway, cam = FitToContentCamera(), car_colors=car_colors) # CarFollowCamera(1)"
   ]
  },
  {
   "cell_type": "code",
   "execution_count": 450,
   "metadata": {},
   "outputs": [
    {
     "data": {
      "image/png": "[encoded data removed]",
      "text/plain": [
       "Cairo.CairoSurfaceIOStream{UInt32}(Ptr{Nothing} @0x00007ff881edc260, 1000.0, 600.0, IOBuffer(data=UInt8[...], readable=true, writable=true, seekable=true, append=false, size=0, maxsize=Inf, ptr=1, mark=-1))"
      ]
     },
     "execution_count": 450,
     "metadata": {},
     "output_type": "execute_result"
    }
   ],
   "source": [
    "render(scenes[1], roadway, cam = FitToContentCamera(), car_colors=car_colors)"
   ]
  },
  {
   "cell_type": "code",
   "execution_count": 451,
   "metadata": {},
   "outputs": [
    {
     "data": {
      "image/svg+xml": [
       "<?xml version=\"1.0\" encoding=\"utf-8\"?>\n",
       "<svg xmlns=\"http://www.w3.org/2000/svg\" xmlns:xlink=\"http://www.w3.org/1999/xlink\" width=\"600\" height=\"400\" viewBox=\"0 0 2400 1600\">\n",
       "<defs>\n",
       "  <clipPath id=\"clip1300\">\n",
       "    <rect x=\"0\" y=\"0\" width=\"2400\" height=\"1600\"/>\n",
       "  </clipPath>\n",
       "</defs>\n",
       "<path clip-path=\"url(#clip1300)\" d=\"\n",
       "M0 1600 L2400 1600 L2400 0 L0 0  Z\n",
       "  \" fill=\"#ffffff\" fill-rule=\"evenodd\" fill-opacity=\"1\"/>\n",
       "<defs>\n",
       "  <clipPath id=\"clip1301\">\n",
       "    <rect x=\"480\" y=\"0\" width=\"1681\" height=\"1600\"/>\n",
       "  </clipPath>\n",
       "</defs>\n",
       "<path clip-path=\"url(#clip1300)\" d=\"\n",
       "M207.423 1487.47 L2352.76 1487.47 L2352.76 47.2441 L207.423 47.2441  Z\n",
       "  \" fill=\"#ffffff\" fill-rule=\"evenodd\" fill-opacity=\"1\"/>\n",
       "<defs>\n",
       "  <clipPath id=\"clip1302\">\n",
       "    <rect x=\"207\" y=\"47\" width=\"2146\" height=\"1441\"/>\n",
       "  </clipPath>\n",
       "</defs>\n",
       "<polyline clip-path=\"url(#clip1302)\" style=\"stroke:#000000; stroke-width:2; stroke-opacity:0.1; fill:none\" points=\"\n",
       "  247.275,1487.47 247.275,47.2441 \n",
       "  \"/>\n",
       "<polyline clip-path=\"url(#clip1302)\" style=\"stroke:#000000; stroke-width:2; stroke-opacity:0.1; fill:none\" points=\"\n",
       "  768.898,1487.47 768.898,47.2441 \n",
       "  \"/>\n",
       "<polyline clip-path=\"url(#clip1302)\" style=\"stroke:#000000; stroke-width:2; stroke-opacity:0.1; fill:none\" points=\"\n",
       "  1290.52,1487.47 1290.52,47.2441 \n",
       "  \"/>\n",
       "<polyline clip-path=\"url(#clip1302)\" style=\"stroke:#000000; stroke-width:2; stroke-opacity:0.1; fill:none\" points=\"\n",
       "  1812.15,1487.47 1812.15,47.2441 \n",
       "  \"/>\n",
       "<polyline clip-path=\"url(#clip1302)\" style=\"stroke:#000000; stroke-width:2; stroke-opacity:0.1; fill:none\" points=\"\n",
       "  2333.77,1487.47 2333.77,47.2441 \n",
       "  \"/>\n",
       "<polyline clip-path=\"url(#clip1302)\" style=\"stroke:#000000; stroke-width:2; stroke-opacity:0.1; fill:none\" points=\"\n",
       "  207.423,1446.71 2352.76,1446.71 \n",
       "  \"/>\n",
       "<polyline clip-path=\"url(#clip1302)\" style=\"stroke:#000000; stroke-width:2; stroke-opacity:0.1; fill:none\" points=\"\n",
       "  207.423,1139.64 2352.76,1139.64 \n",
       "  \"/>\n",
       "<polyline clip-path=\"url(#clip1302)\" style=\"stroke:#000000; stroke-width:2; stroke-opacity:0.1; fill:none\" points=\"\n",
       "  207.423,832.573 2352.76,832.573 \n",
       "  \"/>\n",
       "<polyline clip-path=\"url(#clip1302)\" style=\"stroke:#000000; stroke-width:2; stroke-opacity:0.1; fill:none\" points=\"\n",
       "  207.423,525.503 2352.76,525.503 \n",
       "  \"/>\n",
       "<polyline clip-path=\"url(#clip1302)\" style=\"stroke:#000000; stroke-width:2; stroke-opacity:0.1; fill:none\" points=\"\n",
       "  207.423,218.433 2352.76,218.433 \n",
       "  \"/>\n",
       "<polyline clip-path=\"url(#clip1300)\" style=\"stroke:#000000; stroke-width:4; stroke-opacity:1; fill:none\" points=\"\n",
       "  207.423,1487.47 2352.76,1487.47 \n",
       "  \"/>\n",
       "<polyline clip-path=\"url(#clip1300)\" style=\"stroke:#000000; stroke-width:4; stroke-opacity:1; fill:none\" points=\"\n",
       "  207.423,1487.47 207.423,47.2441 \n",
       "  \"/>\n",
       "<polyline clip-path=\"url(#clip1300)\" style=\"stroke:#000000; stroke-width:4; stroke-opacity:1; fill:none\" points=\"\n",
       "  247.275,1487.47 247.275,1465.87 \n",
       "  \"/>\n",
       "<polyline clip-path=\"url(#clip1300)\" style=\"stroke:#000000; stroke-width:4; stroke-opacity:1; fill:none\" points=\"\n",
       "  768.898,1487.47 768.898,1465.87 \n",
       "  \"/>\n",
       "<polyline clip-path=\"url(#clip1300)\" style=\"stroke:#000000; stroke-width:4; stroke-opacity:1; fill:none\" points=\"\n",
       "  1290.52,1487.47 1290.52,1465.87 \n",
       "  \"/>\n",
       "<polyline clip-path=\"url(#clip1300)\" style=\"stroke:#000000; stroke-width:4; stroke-opacity:1; fill:none\" points=\"\n",
       "  1812.15,1487.47 1812.15,1465.87 \n",
       "  \"/>\n",
       "<polyline clip-path=\"url(#clip1300)\" style=\"stroke:#000000; stroke-width:4; stroke-opacity:1; fill:none\" points=\"\n",
       "  2333.77,1487.47 2333.77,1465.87 \n",
       "  \"/>\n",
       "<polyline clip-path=\"url(#clip1300)\" style=\"stroke:#000000; stroke-width:4; stroke-opacity:1; fill:none\" points=\"\n",
       "  207.423,1446.71 239.603,1446.71 \n",
       "  \"/>\n",
       "<polyline clip-path=\"url(#clip1300)\" style=\"stroke:#000000; stroke-width:4; stroke-opacity:1; fill:none\" points=\"\n",
       "  207.423,1139.64 239.603,1139.64 \n",
       "  \"/>\n",
       "<polyline clip-path=\"url(#clip1300)\" style=\"stroke:#000000; stroke-width:4; stroke-opacity:1; fill:none\" points=\"\n",
       "  207.423,832.573 239.603,832.573 \n",
       "  \"/>\n",
       "<polyline clip-path=\"url(#clip1300)\" style=\"stroke:#000000; stroke-width:4; stroke-opacity:1; fill:none\" points=\"\n",
       "  207.423,525.503 239.603,525.503 \n",
       "  \"/>\n",
       "<polyline clip-path=\"url(#clip1300)\" style=\"stroke:#000000; stroke-width:4; stroke-opacity:1; fill:none\" points=\"\n",
       "  207.423,218.433 239.603,218.433 \n",
       "  \"/>\n",
       "<g clip-path=\"url(#clip1300)\">\n",
       "<text style=\"fill:#000000; fill-opacity:1; font-family:Arial,Helvetica Neue,Helvetica,sans-serif; font-size:48px; text-anchor:middle;\" transform=\"rotate(0, 247.275, 1541.47)\" x=\"247.275\" y=\"1541.47\">0</text>\n",
       "</g>\n",
       "<g clip-path=\"url(#clip1300)\">\n",
       "<text style=\"fill:#000000; fill-opacity:1; font-family:Arial,Helvetica Neue,Helvetica,sans-serif; font-size:48px; text-anchor:middle;\" transform=\"rotate(0, 768.898, 1541.47)\" x=\"768.898\" y=\"1541.47\">25</text>\n",
       "</g>\n",
       "<g clip-path=\"url(#clip1300)\">\n",
       "<text style=\"fill:#000000; fill-opacity:1; font-family:Arial,Helvetica Neue,Helvetica,sans-serif; font-size:48px; text-anchor:middle;\" transform=\"rotate(0, 1290.52, 1541.47)\" x=\"1290.52\" y=\"1541.47\">50</text>\n",
       "</g>\n",
       "<g clip-path=\"url(#clip1300)\">\n",
       "<text style=\"fill:#000000; fill-opacity:1; font-family:Arial,Helvetica Neue,Helvetica,sans-serif; font-size:48px; text-anchor:middle;\" transform=\"rotate(0, 1812.15, 1541.47)\" x=\"1812.15\" y=\"1541.47\">75</text>\n",
       "</g>\n",
       "<g clip-path=\"url(#clip1300)\">\n",
       "<text style=\"fill:#000000; fill-opacity:1; font-family:Arial,Helvetica Neue,Helvetica,sans-serif; font-size:48px; text-anchor:middle;\" transform=\"rotate(0, 2333.77, 1541.47)\" x=\"2333.77\" y=\"1541.47\">100</text>\n",
       "</g>\n",
       "<g clip-path=\"url(#clip1300)\">\n",
       "<text style=\"fill:#000000; fill-opacity:1; font-family:Arial,Helvetica Neue,Helvetica,sans-serif; font-size:48px; text-anchor:end;\" transform=\"rotate(0, 183.423, 1464.21)\" x=\"183.423\" y=\"1464.21\">0.000</text>\n",
       "</g>\n",
       "<g clip-path=\"url(#clip1300)\">\n",
       "<text style=\"fill:#000000; fill-opacity:1; font-family:Arial,Helvetica Neue,Helvetica,sans-serif; font-size:48px; text-anchor:end;\" transform=\"rotate(0, 183.423, 1157.14)\" x=\"183.423\" y=\"1157.14\">0.025</text>\n",
       "</g>\n",
       "<g clip-path=\"url(#clip1300)\">\n",
       "<text style=\"fill:#000000; fill-opacity:1; font-family:Arial,Helvetica Neue,Helvetica,sans-serif; font-size:48px; text-anchor:end;\" transform=\"rotate(0, 183.423, 850.073)\" x=\"183.423\" y=\"850.073\">0.050</text>\n",
       "</g>\n",
       "<g clip-path=\"url(#clip1300)\">\n",
       "<text style=\"fill:#000000; fill-opacity:1; font-family:Arial,Helvetica Neue,Helvetica,sans-serif; font-size:48px; text-anchor:end;\" transform=\"rotate(0, 183.423, 543.003)\" x=\"183.423\" y=\"543.003\">0.075</text>\n",
       "</g>\n",
       "<g clip-path=\"url(#clip1300)\">\n",
       "<text style=\"fill:#000000; fill-opacity:1; font-family:Arial,Helvetica Neue,Helvetica,sans-serif; font-size:48px; text-anchor:end;\" transform=\"rotate(0, 183.423, 235.933)\" x=\"183.423\" y=\"235.933\">0.100</text>\n",
       "</g>\n",
       "<polyline clip-path=\"url(#clip1302)\" style=\"stroke:#009af9; stroke-width:4; stroke-opacity:1; fill:none\" points=\"\n",
       "  268.14,1446.71 289.005,1446.71 309.87,1446.71 330.734,1446.71 351.599,1446.71 372.464,1446.71 393.329,1446.71 414.194,1446.71 435.059,1446.71 455.924,1446.71 \n",
       "  476.789,1446.71 497.654,1446.71 518.519,1446.71 539.384,1446.71 560.249,1446.71 581.114,1446.71 601.979,1446.71 622.844,1446.71 643.709,1446.71 664.574,1446.71 \n",
       "  685.438,1446.71 706.303,1446.71 727.168,1446.71 748.033,1446.71 768.898,1446.71 789.763,1446.71 810.628,1446.71 831.493,1446.71 852.358,1446.71 873.223,1446.71 \n",
       "  894.088,1446.71 914.953,1446.71 935.818,1446.71 956.683,1446.71 977.548,1446.71 998.413,1446.71 1019.28,1446.71 1040.14,1446.71 1061.01,1446.71 1081.87,1446.71 \n",
       "  1102.74,1446.71 1123.6,1446.71 1144.47,1446.71 1165.33,1446.71 1186.2,1446.71 1207.06,1332.04 1227.93,1224.27 1248.79,1123.44 1269.66,1029.58 1290.52,942.679 \n",
       "  1311.39,862.685 1332.25,789.524 1353.12,723.098 1373.98,660.928 1394.85,604.621 1415.71,554.098 1436.58,509.262 1457.44,469.999 1478.31,436.181 1499.17,407.664 \n",
       "  1520.04,388.579 1540.9,374.868 1561.77,366.263 1582.63,362.493 1603.5,363.286 1624.36,260.632 1645.23,168.979 1666.09,88.0053 1686.96,120.011 1707.82,155.394 \n",
       "  1728.69,193.847 1749.55,235.067 1770.42,278.758 1791.28,324.627 1812.15,372.391 1833.01,319.191 1853.88,273.657 1874.74,235.505 1895.61,204.438 1916.47,180.152 \n",
       "  1937.33,162.335 1958.2,150.67 1979.06,144.839 1999.93,244.021 2020.79,342.438 2041.66,439.736 2062.52,535.581 2083.39,629.664 2104.25,623.919 2125.12,621.784 \n",
       "  2145.98,719.164 2166.85,814.14 2187.71,906.458 2208.58,995.888 2229.44,1082.23 2250.31,1165.29 2271.17,1244.93 2292.04,1321 \n",
       "  \"/>\n",
       "<path clip-path=\"url(#clip1300)\" d=\"\n",
       "M1989.93 251.724 L2280.76 251.724 L2280.76 130.764 L1989.93 130.764  Z\n",
       "  \" fill=\"#ffffff\" fill-rule=\"evenodd\" fill-opacity=\"1\"/>\n",
       "<polyline clip-path=\"url(#clip1300)\" style=\"stroke:#000000; stroke-width:4; stroke-opacity:1; fill:none\" points=\"\n",
       "  1989.93,251.724 2280.76,251.724 2280.76,130.764 1989.93,130.764 1989.93,251.724 \n",
       "  \"/>\n",
       "<polyline clip-path=\"url(#clip1300)\" style=\"stroke:#009af9; stroke-width:4; stroke-opacity:1; fill:none\" points=\"\n",
       "  2013.93,191.244 2157.93,191.244 \n",
       "  \"/>\n",
       "<g clip-path=\"url(#clip1300)\">\n",
       "<text style=\"fill:#000000; fill-opacity:1; font-family:Arial,Helvetica Neue,Helvetica,sans-serif; font-size:48px; text-anchor:start;\" transform=\"rotate(0, 2181.93, 208.744)\" x=\"2181.93\" y=\"208.744\">y1</text>\n",
       "</g>\n",
       "</svg>\n"
      ]
     },
     "execution_count": 451,
     "metadata": {},
     "output_type": "execute_result"
    }
   ],
   "source": [
    "using Plots\n",
    "plot(headings)"
   ]
  },
  {
   "cell_type": "code",
   "execution_count": 452,
   "metadata": {},
   "outputs": [
    {
     "data": {
      "image/svg+xml": [
       "<?xml version=\"1.0\" encoding=\"utf-8\"?>\n",
       "<svg xmlns=\"http://www.w3.org/2000/svg\" xmlns:xlink=\"http://www.w3.org/1999/xlink\" width=\"600\" height=\"400\" viewBox=\"0 0 2400 1600\">\n",
       "<defs>\n",
       "  <clipPath id=\"clip1700\">\n",
       "    <rect x=\"0\" y=\"0\" width=\"2400\" height=\"1600\"/>\n",
       "  </clipPath>\n",
       "</defs>\n",
       "<path clip-path=\"url(#clip1700)\" d=\"\n",
       "M0 1600 L2400 1600 L2400 0 L0 0  Z\n",
       "  \" fill=\"#ffffff\" fill-rule=\"evenodd\" fill-opacity=\"1\"/>\n",
       "<defs>\n",
       "  <clipPath id=\"clip1701\">\n",
       "    <rect x=\"480\" y=\"0\" width=\"1681\" height=\"1600\"/>\n",
       "  </clipPath>\n",
       "</defs>\n",
       "<path clip-path=\"url(#clip1700)\" d=\"\n",
       "M140.517 1487.47 L2352.76 1487.47 L2352.76 47.2441 L140.517 47.2441  Z\n",
       "  \" fill=\"#ffffff\" fill-rule=\"evenodd\" fill-opacity=\"1\"/>\n",
       "<defs>\n",
       "  <clipPath id=\"clip1702\">\n",
       "    <rect x=\"140\" y=\"47\" width=\"2213\" height=\"1441\"/>\n",
       "  </clipPath>\n",
       "</defs>\n",
       "<polyline clip-path=\"url(#clip1702)\" style=\"stroke:#000000; stroke-width:2; stroke-opacity:0.1; fill:none\" points=\"\n",
       "  181.831,1487.47 181.831,47.2441 \n",
       "  \"/>\n",
       "<polyline clip-path=\"url(#clip1702)\" style=\"stroke:#000000; stroke-width:2; stroke-opacity:0.1; fill:none\" points=\"\n",
       "  714.234,1487.47 714.234,47.2441 \n",
       "  \"/>\n",
       "<polyline clip-path=\"url(#clip1702)\" style=\"stroke:#000000; stroke-width:2; stroke-opacity:0.1; fill:none\" points=\"\n",
       "  1246.64,1487.47 1246.64,47.2441 \n",
       "  \"/>\n",
       "<polyline clip-path=\"url(#clip1702)\" style=\"stroke:#000000; stroke-width:2; stroke-opacity:0.1; fill:none\" points=\"\n",
       "  1779.04,1487.47 1779.04,47.2441 \n",
       "  \"/>\n",
       "<polyline clip-path=\"url(#clip1702)\" style=\"stroke:#000000; stroke-width:2; stroke-opacity:0.1; fill:none\" points=\"\n",
       "  2311.44,1487.47 2311.44,47.2441 \n",
       "  \"/>\n",
       "<polyline clip-path=\"url(#clip1702)\" style=\"stroke:#000000; stroke-width:2; stroke-opacity:0.1; fill:none\" points=\"\n",
       "  140.517,1446.71 2352.76,1446.71 \n",
       "  \"/>\n",
       "<polyline clip-path=\"url(#clip1702)\" style=\"stroke:#000000; stroke-width:2; stroke-opacity:0.1; fill:none\" points=\"\n",
       "  140.517,1149 2352.76,1149 \n",
       "  \"/>\n",
       "<polyline clip-path=\"url(#clip1702)\" style=\"stroke:#000000; stroke-width:2; stroke-opacity:0.1; fill:none\" points=\"\n",
       "  140.517,851.295 2352.76,851.295 \n",
       "  \"/>\n",
       "<polyline clip-path=\"url(#clip1702)\" style=\"stroke:#000000; stroke-width:2; stroke-opacity:0.1; fill:none\" points=\"\n",
       "  140.517,553.586 2352.76,553.586 \n",
       "  \"/>\n",
       "<polyline clip-path=\"url(#clip1702)\" style=\"stroke:#000000; stroke-width:2; stroke-opacity:0.1; fill:none\" points=\"\n",
       "  140.517,255.877 2352.76,255.877 \n",
       "  \"/>\n",
       "<polyline clip-path=\"url(#clip1700)\" style=\"stroke:#000000; stroke-width:4; stroke-opacity:1; fill:none\" points=\"\n",
       "  140.517,1487.47 2352.76,1487.47 \n",
       "  \"/>\n",
       "<polyline clip-path=\"url(#clip1700)\" style=\"stroke:#000000; stroke-width:4; stroke-opacity:1; fill:none\" points=\"\n",
       "  140.517,1487.47 140.517,47.2441 \n",
       "  \"/>\n",
       "<polyline clip-path=\"url(#clip1700)\" style=\"stroke:#000000; stroke-width:4; stroke-opacity:1; fill:none\" points=\"\n",
       "  181.831,1487.47 181.831,1465.87 \n",
       "  \"/>\n",
       "<polyline clip-path=\"url(#clip1700)\" style=\"stroke:#000000; stroke-width:4; stroke-opacity:1; fill:none\" points=\"\n",
       "  714.234,1487.47 714.234,1465.87 \n",
       "  \"/>\n",
       "<polyline clip-path=\"url(#clip1700)\" style=\"stroke:#000000; stroke-width:4; stroke-opacity:1; fill:none\" points=\"\n",
       "  1246.64,1487.47 1246.64,1465.87 \n",
       "  \"/>\n",
       "<polyline clip-path=\"url(#clip1700)\" style=\"stroke:#000000; stroke-width:4; stroke-opacity:1; fill:none\" points=\"\n",
       "  1779.04,1487.47 1779.04,1465.87 \n",
       "  \"/>\n",
       "<polyline clip-path=\"url(#clip1700)\" style=\"stroke:#000000; stroke-width:4; stroke-opacity:1; fill:none\" points=\"\n",
       "  2311.44,1487.47 2311.44,1465.87 \n",
       "  \"/>\n",
       "<polyline clip-path=\"url(#clip1700)\" style=\"stroke:#000000; stroke-width:4; stroke-opacity:1; fill:none\" points=\"\n",
       "  140.517,1446.71 173.7,1446.71 \n",
       "  \"/>\n",
       "<polyline clip-path=\"url(#clip1700)\" style=\"stroke:#000000; stroke-width:4; stroke-opacity:1; fill:none\" points=\"\n",
       "  140.517,1149 173.7,1149 \n",
       "  \"/>\n",
       "<polyline clip-path=\"url(#clip1700)\" style=\"stroke:#000000; stroke-width:4; stroke-opacity:1; fill:none\" points=\"\n",
       "  140.517,851.295 173.7,851.295 \n",
       "  \"/>\n",
       "<polyline clip-path=\"url(#clip1700)\" style=\"stroke:#000000; stroke-width:4; stroke-opacity:1; fill:none\" points=\"\n",
       "  140.517,553.586 173.7,553.586 \n",
       "  \"/>\n",
       "<polyline clip-path=\"url(#clip1700)\" style=\"stroke:#000000; stroke-width:4; stroke-opacity:1; fill:none\" points=\"\n",
       "  140.517,255.877 173.7,255.877 \n",
       "  \"/>\n",
       "<g clip-path=\"url(#clip1700)\">\n",
       "<text style=\"fill:#000000; fill-opacity:1; font-family:Arial,Helvetica Neue,Helvetica,sans-serif; font-size:48px; text-anchor:middle;\" transform=\"rotate(0, 181.831, 1541.47)\" x=\"181.831\" y=\"1541.47\">0</text>\n",
       "</g>\n",
       "<g clip-path=\"url(#clip1700)\">\n",
       "<text style=\"fill:#000000; fill-opacity:1; font-family:Arial,Helvetica Neue,Helvetica,sans-serif; font-size:48px; text-anchor:middle;\" transform=\"rotate(0, 714.234, 1541.47)\" x=\"714.234\" y=\"1541.47\">25</text>\n",
       "</g>\n",
       "<g clip-path=\"url(#clip1700)\">\n",
       "<text style=\"fill:#000000; fill-opacity:1; font-family:Arial,Helvetica Neue,Helvetica,sans-serif; font-size:48px; text-anchor:middle;\" transform=\"rotate(0, 1246.64, 1541.47)\" x=\"1246.64\" y=\"1541.47\">50</text>\n",
       "</g>\n",
       "<g clip-path=\"url(#clip1700)\">\n",
       "<text style=\"fill:#000000; fill-opacity:1; font-family:Arial,Helvetica Neue,Helvetica,sans-serif; font-size:48px; text-anchor:middle;\" transform=\"rotate(0, 1779.04, 1541.47)\" x=\"1779.04\" y=\"1541.47\">75</text>\n",
       "</g>\n",
       "<g clip-path=\"url(#clip1700)\">\n",
       "<text style=\"fill:#000000; fill-opacity:1; font-family:Arial,Helvetica Neue,Helvetica,sans-serif; font-size:48px; text-anchor:middle;\" transform=\"rotate(0, 2311.44, 1541.47)\" x=\"2311.44\" y=\"1541.47\">100</text>\n",
       "</g>\n",
       "<g clip-path=\"url(#clip1700)\">\n",
       "<text style=\"fill:#000000; fill-opacity:1; font-family:Arial,Helvetica Neue,Helvetica,sans-serif; font-size:48px; text-anchor:end;\" transform=\"rotate(0, 116.517, 1464.21)\" x=\"116.517\" y=\"1464.21\">20</text>\n",
       "</g>\n",
       "<g clip-path=\"url(#clip1700)\">\n",
       "<text style=\"fill:#000000; fill-opacity:1; font-family:Arial,Helvetica Neue,Helvetica,sans-serif; font-size:48px; text-anchor:end;\" transform=\"rotate(0, 116.517, 1166.5)\" x=\"116.517\" y=\"1166.5\">22</text>\n",
       "</g>\n",
       "<g clip-path=\"url(#clip1700)\">\n",
       "<text style=\"fill:#000000; fill-opacity:1; font-family:Arial,Helvetica Neue,Helvetica,sans-serif; font-size:48px; text-anchor:end;\" transform=\"rotate(0, 116.517, 868.795)\" x=\"116.517\" y=\"868.795\">24</text>\n",
       "</g>\n",
       "<g clip-path=\"url(#clip1700)\">\n",
       "<text style=\"fill:#000000; fill-opacity:1; font-family:Arial,Helvetica Neue,Helvetica,sans-serif; font-size:48px; text-anchor:end;\" transform=\"rotate(0, 116.517, 571.086)\" x=\"116.517\" y=\"571.086\">26</text>\n",
       "</g>\n",
       "<g clip-path=\"url(#clip1700)\">\n",
       "<text style=\"fill:#000000; fill-opacity:1; font-family:Arial,Helvetica Neue,Helvetica,sans-serif; font-size:48px; text-anchor:end;\" transform=\"rotate(0, 116.517, 273.377)\" x=\"116.517\" y=\"273.377\">28</text>\n",
       "</g>\n",
       "<polyline clip-path=\"url(#clip1702)\" style=\"stroke:#009af9; stroke-width:4; stroke-opacity:1; fill:none\" points=\"\n",
       "  203.127,1446.71 224.423,1439.27 245.72,1431.83 267.016,1424.39 288.312,1416.94 309.608,1409.5 330.904,1402.06 352.2,1394.61 373.496,1387.17 394.792,1379.73 \n",
       "  416.088,1372.29 437.384,1364.84 458.681,1357.4 479.977,1349.96 501.273,1342.52 522.569,1335.07 543.865,1335.07 565.161,1335.07 586.457,1335.07 607.753,1335.07 \n",
       "  629.049,1335.07 650.345,1335.07 671.642,1335.07 692.938,1335.07 714.234,1312.74 735.53,1290.42 756.826,1268.09 778.122,1245.76 799.418,1223.43 820.714,1201.1 \n",
       "  842.01,1178.78 863.307,1156.45 884.603,1134.12 905.899,1111.79 927.195,1089.46 948.491,1067.13 969.787,1044.81 991.083,1022.48 1012.38,1000.15 1033.68,977.822 \n",
       "  1054.97,955.494 1076.27,933.165 1097.56,910.837 1118.86,888.509 1140.16,866.181 1161.45,843.853 1182.75,828.343 1204.04,812.313 1225.34,795.862 1246.64,779.085 \n",
       "  1267.93,762.07 1289.23,744.898 1310.52,727.645 1331.82,710.376 1353.12,715.426 1374.41,720.551 1395.71,725.796 1417.01,731.196 1438.3,736.781 1459.6,742.574 \n",
       "  1480.89,748.594 1502.19,725.197 1523.49,702.061 1544.78,679.186 1566.08,656.567 1587.37,634.195 1608.67,605.628 1629.97,577.23 1651.26,549.132 1672.56,543.835 \n",
       "  1693.85,538.71 1715.15,533.718 1736.45,528.823 1757.74,523.989 1779.04,519.184 1800.34,514.376 1821.63,488.836 1842.93,463.611 1864.22,438.74 1885.52,414.251 \n",
       "  1906.82,390.163 1928.11,366.484 1949.41,343.215 1970.7,320.348 1992,304.423 2013.3,287.956 2034.59,270.937 2055.89,253.364 2077.18,235.243 2098.48,212.602 \n",
       "  2119.78,190.124 2141.07,179.194 2162.37,167.673 2183.66,155.589 2204.96,142.976 2226.26,129.871 2247.55,116.313 2268.85,102.343 2290.15,88.0053 \n",
       "  \"/>\n",
       "<path clip-path=\"url(#clip1700)\" d=\"\n",
       "M1989.93 251.724 L2280.76 251.724 L2280.76 130.764 L1989.93 130.764  Z\n",
       "  \" fill=\"#ffffff\" fill-rule=\"evenodd\" fill-opacity=\"1\"/>\n",
       "<polyline clip-path=\"url(#clip1700)\" style=\"stroke:#000000; stroke-width:4; stroke-opacity:1; fill:none\" points=\"\n",
       "  1989.93,251.724 2280.76,251.724 2280.76,130.764 1989.93,130.764 1989.93,251.724 \n",
       "  \"/>\n",
       "<polyline clip-path=\"url(#clip1700)\" style=\"stroke:#009af9; stroke-width:4; stroke-opacity:1; fill:none\" points=\"\n",
       "  2013.93,191.244 2157.93,191.244 \n",
       "  \"/>\n",
       "<g clip-path=\"url(#clip1700)\">\n",
       "<text style=\"fill:#000000; fill-opacity:1; font-family:Arial,Helvetica Neue,Helvetica,sans-serif; font-size:48px; text-anchor:start;\" transform=\"rotate(0, 2181.93, 208.744)\" x=\"2181.93\" y=\"208.744\">y1</text>\n",
       "</g>\n",
       "</svg>\n"
      ]
     },
     "execution_count": 452,
     "metadata": {},
     "output_type": "execute_result"
    }
   ],
   "source": [
    "vels = []\n",
    "for i=1:length(scenes)\n",
    "    push!(vels, scenes[i][1].state.v)\n",
    "end\n",
    "plot(vels)"
   ]
  },
  {
   "cell_type": "code",
   "execution_count": 358,
   "metadata": {},
   "outputs": [
    {
     "name": "stdout",
     "output_type": "stream",
     "text": [
      "\"collision\" = \"collision\"\n",
      "r = -9933.735505531955\n",
      "\"finish line\" = \"finish line\"\n",
      "r = 9987.763821061777\n",
      "\"end of road\" = \"end of road\"\n",
      "r = 96.8138218178386\n",
      "\"collision\" = \"collision\"\n",
      "r = -9951.631175373757\n",
      "\"end of road\" = \"end of road\"\n",
      "r = -2.6750134300529282\n",
      "\"collision\" = \"collision\"\n",
      "r = -9925.847005161771\n",
      "\"finish line\" = \"finish line\"\n",
      "r = 11861.964236171945\n",
      "\"finish line\" = \"finish line\"\n",
      "r = 11064.836638810564\n",
      "\"collision\" = \"collision\"\n",
      "r = -9965.370165760105\n",
      "\"finish line\" = \"finish line\"\n",
      "r = 11763.411059935417\n",
      "\"finish line\" = \"finish line\"\n",
      "r = 11247.073446086873\n",
      "\"finish line\" = \"finish line\"\n",
      "r = 11707.38383142819\n",
      "\"finish line\" = \"finish line\"\n",
      "r = 11076.325380435783\n",
      "\"collision\" = \"collision\"\n",
      "r = -9991.492711175622\n",
      "\"finish line\" = \"finish line\"\n",
      "r = 11067.959274044139\n",
      "\"collision\" = \"collision\"\n",
      "r = -9912.431719764454\n",
      "\"finish line\" = \"finish line\"\n",
      "r = 11427.259143963422\n",
      "\"end of road\" = \"end of road\"\n",
      "r = -928.877152169315\n",
      "\"finish line\" = \"finish line\"\n",
      "r = 11127.950176717655\n",
      "\"finish line\" = \"finish line\"\n",
      "r = 11307.658208059525\n",
      "\"finish line\" = \"finish line\"\n",
      "r = 11010.657482696744\n",
      "\"finish line\" = \"finish line\"\n",
      "r = 11417.384082019787\n",
      "\"collision\" = \"collision\"\n",
      "r = -12104.917162424184\n",
      "\"finish line\" = \"finish line\"\n",
      "r = 6377.0821474297245\n",
      "\"collision\" = \"collision\"\n",
      "r = -9865.77117614002\n",
      "\"collision\" = \"collision\"\n",
      "r = -10000.148812705584\n",
      "\"collision\" = \"collision\"\n",
      "r = -9982.082109525441\n",
      "\"collision\" = \"collision\"\n",
      "r = -10000.661395730747\n",
      "\"collision\" = \"collision\"\n",
      "r = -9951.509982083873\n",
      "\"finish line\" = \"finish line\"\n",
      "r = 11069.19192607583\n",
      "\"finish line\" = \"finish line\"\n",
      "r = 11059.251484242684\n",
      "\"end of road\" = \"end of road\"\n",
      "r = -2399.650842536462\n"
     ]
    },
    {
     "ename": "InterruptException",
     "evalue": "InterruptException:",
     "output_type": "error",
     "traceback": [
      "InterruptException:",
      "",
      "Stacktrace:",
      " [1] gen(::laneChangeMDP, ::Frame{Entity{VehicleState,VehicleDef,Int64}}, ::Int64, ::MersenneTwister) at /Users/williambrannon/qualcomm/lane_change_mdp.jl:111",
      " [2] macro expansion at /Users/williambrannon/.julia/packages/POMDPs/XDCTo/src/gen_impl.jl:30 [inlined]",
      " [3] macro expansion at ./none:0 [inlined]",
      " [4] genout(::DDNOut{(:sp, :r)}, ::DDNStructure{NamedTuple{(:s, :a, :sp, :r),Tuple{InputDDNNode,InputDDNNode,DistributionDDNNode{typeof(transition)},FunctionDDNNode{typeof(reward)}}},NamedTuple{(:s, :a, :sp, :r),Tuple{Tuple{},Tuple{},Tuple{DDNNode{:s},DDNNode{:a}},Tuple{DDNNode{:s},DDNNode{:a},DDNNode{:sp}}}}}, ::laneChangeMDP, ::Frame{Entity{VehicleState,VehicleDef,Int64}}, ::Int64, ::MersenneTwister) at ./none:0",
      " [5] macro expansion at /Users/williambrannon/.julia/packages/POMDPs/XDCTo/src/gen_impl.jl:19 [inlined]",
      " [6] gen(::DDNOut{(:sp, :r)}, ::laneChangeMDP, ::Frame{Entity{VehicleState,VehicleDef,Int64}}, ::Int64, ::MersenneTwister) at /Users/williambrannon/.julia/packages/POMDPs/XDCTo/src/gen_impl.jl:4",
      " [7] simulate(::RolloutSimulator{MersenneTwister}, ::laneChangeMDP, ::RandomPolicy{MersenneTwister,laneChangeMDP,BeliefUpdaters.NothingUpdater}, ::Frame{Entity{VehicleState,VehicleDef,Int64}}) at /Users/williambrannon/.julia/packages/POMDPSimulators/V9qfg/src/rollout.jl:169",
      " [8] rollout at /Users/williambrannon/.julia/packages/MCTS/iKnNr/src/domain_knowledge.jl:54 [inlined]",
      " [9] estimate_value(::MCTS.SolvedRolloutEstimator{RandomPolicy{MersenneTwister,laneChangeMDP,BeliefUpdaters.NothingUpdater},MersenneTwister}, ::laneChangeMDP, ::Frame{Entity{VehicleState,VehicleDef,Int64}}, ::Int64) at /Users/williambrannon/.julia/packages/MCTS/iKnNr/src/domain_knowledge.jl:49",
      " [10] simulate(::DPWPlanner{laneChangeMDP,Frame{Entity{VehicleState,VehicleDef,Int64}},Int64,MCTS.SolvedRolloutEstimator{RandomPolicy{MersenneTwister,laneChangeMDP,BeliefUpdaters.NothingUpdater},MersenneTwister},RandomActionGenerator{MersenneTwister},MersenneTwister}, ::Int64, ::Int64) at /Users/williambrannon/.julia/packages/MCTS/iKnNr/src/dpw.jl:168",
      " [11] simulate(::DPWPlanner{laneChangeMDP,Frame{Entity{VehicleState,VehicleDef,Int64}},Int64,MCTS.SolvedRolloutEstimator{RandomPolicy{MersenneTwister,laneChangeMDP,BeliefUpdaters.NothingUpdater},MersenneTwister},RandomActionGenerator{MersenneTwister},MersenneTwister}, ::Int64, ::Int64) at /Users/williambrannon/.julia/packages/MCTS/iKnNr/src/dpw.jl:170 (repeats 2 times)",
      " [12] #action_info#7(::Bool, ::typeof(action_info), ::DPWPlanner{laneChangeMDP,Frame{Entity{VehicleState,VehicleDef,Int64}},Int64,MCTS.SolvedRolloutEstimator{RandomPolicy{MersenneTwister,laneChangeMDP,BeliefUpdaters.NothingUpdater},MersenneTwister},RandomActionGenerator{MersenneTwister},MersenneTwister}, ::Frame{Entity{VehicleState,VehicleDef,Int64}}) at /Users/williambrannon/.julia/packages/MCTS/iKnNr/src/dpw.jl:53",
      " [13] action_info at /Users/williambrannon/.julia/packages/MCTS/iKnNr/src/dpw.jl:19 [inlined]",
      " [14] action(::DPWPlanner{laneChangeMDP,Frame{Entity{VehicleState,VehicleDef,Int64}},Int64,MCTS.SolvedRolloutEstimator{RandomPolicy{MersenneTwister,laneChangeMDP,BeliefUpdaters.NothingUpdater},MersenneTwister},RandomActionGenerator{MersenneTwister},MersenneTwister}, ::Frame{Entity{VehicleState,VehicleDef,Int64}}) at /Users/williambrannon/.julia/packages/MCTS/iKnNr/src/dpw.jl:13",
      " [15] simulate_pomdp() at /Users/williambrannon/qualcomm/sim.jl:36",
      " [16] top-level scope at ./In[358]:10"
     ]
    }
   ],
   "source": [
    "num_goal = 0\n",
    "num_fail = 0\n",
    "num_collisions = 0\n",
    "num_timeouts = 0\n",
    "nlanes = 4\n",
    "ntrials = 100\n",
    "vehicle_width = scenes[end][1].def.width\n",
    "lane_break_distance = DEFAULT_LANE_WIDTH / 2 - vehicle_width / 2\n",
    "for i = 1:ntrials\n",
    "    roadway, policy, scenes = simulate_pomdp()\n",
    "    if get_lane(roadway, scenes[end][1].state).tag.lane == nlanes && abs(scenes[end][1].state.posF.ϕ) < pi/6 && abs(scenes[end][1].state.posF.t) < lane_break_distance\n",
    "        num_goal += 1\n",
    "    else\n",
    "        num_fail += 1\n",
    "        if collision_checker(scenes[end], EGO_ID) \n",
    "            num_collisions += 1\n",
    "        else\n",
    "            num_timeouts += 1\n",
    "        end\n",
    "    end\n",
    "end"
   ]
  },
  {
   "cell_type": "code",
   "execution_count": 359,
   "metadata": {},
   "outputs": [
    {
     "name": "stdout",
     "output_type": "stream",
     "text": [
      "num_goal = 16\n",
      "num_fail = 16\n",
      "num_collisions = 12\n",
      "num_timeouts = 4\n"
     ]
    },
    {
     "data": {
      "text/plain": [
       "4"
      ]
     },
     "execution_count": 359,
     "metadata": {},
     "output_type": "execute_result"
    }
   ],
   "source": [
    "@show num_goal\n",
    "@show num_fail\n",
    "@show num_collisions\n",
    "@show num_timeouts"
   ]
  },
  {
   "cell_type": "code",
   "execution_count": null,
   "metadata": {},
   "outputs": [],
   "source": [
    "# d 20, c 5, i 500: 2-8\n",
    "# d 50, c 5, i 500: 0-10\n",
    "# d 20, c 10, i 500: 3-7\n",
    "# d 20, c 15, i 500: 3-7\n",
    "# d 20, c 10, i 750: 0-10"
   ]
  },
  {
   "cell_type": "code",
   "execution_count": 25,
   "metadata": {},
   "outputs": [
    {
     "ename": "MethodError",
     "evalue": "MethodError: no method matching D3Tree(::DPWPlanner{laneChangeMDP,Frame{Entity{VehicleState,VehicleDef,Int64}},Int64,MCTS.SolvedRolloutEstimator{RandomPolicy{MersenneTwister,laneChangeMDP,BeliefUpdaters.NothingUpdater},MersenneTwister},RandomActionGenerator{MersenneTwister},MersenneTwister}, ::MCTSPlanner{laneChangeMDP,Frame{Entity{VehicleState,VehicleDef,Int64}},Int64,MCTS.SolvedRolloutEstimator{RandomPolicy{MersenneTwister,laneChangeMDP,BeliefUpdaters.NothingUpdater},MersenneTwister},MersenneTwister}; init_expand=2)\nClosest candidates are:\n  D3Tree(::Any, ::Any, !Matched::Any, !Matched::Any, !Matched::Any, !Matched::Any, !Matched::Any) at /Users/williambrannon/.julia/packages/D3Trees/CDEyE/src/D3Trees.jl:20 got unsupported keyword argument \"init_expand\"\n  D3Tree(!Matched::MCTSPlanner, ::Any; kwargs...) at /Users/williambrannon/.julia/packages/MCTS/iKnNr/src/visualization.jl:16\n  D3Tree(::DPWPlanner; kwargs...) at /Users/williambrannon/.julia/packages/MCTS/iKnNr/src/visualization.jl:38\n  ...",
     "output_type": "error",
     "traceback": [
      "MethodError: no method matching D3Tree(::DPWPlanner{laneChangeMDP,Frame{Entity{VehicleState,VehicleDef,Int64}},Int64,MCTS.SolvedRolloutEstimator{RandomPolicy{MersenneTwister,laneChangeMDP,BeliefUpdaters.NothingUpdater},MersenneTwister},RandomActionGenerator{MersenneTwister},MersenneTwister}, ::MCTSPlanner{laneChangeMDP,Frame{Entity{VehicleState,VehicleDef,Int64}},Int64,MCTS.SolvedRolloutEstimator{RandomPolicy{MersenneTwister,laneChangeMDP,BeliefUpdaters.NothingUpdater},MersenneTwister},MersenneTwister}; init_expand=2)\nClosest candidates are:\n  D3Tree(::Any, ::Any, !Matched::Any, !Matched::Any, !Matched::Any, !Matched::Any, !Matched::Any) at /Users/williambrannon/.julia/packages/D3Trees/CDEyE/src/D3Trees.jl:20 got unsupported keyword argument \"init_expand\"\n  D3Tree(!Matched::MCTSPlanner, ::Any; kwargs...) at /Users/williambrannon/.julia/packages/MCTS/iKnNr/src/visualization.jl:16\n  D3Tree(::DPWPlanner; kwargs...) at /Users/williambrannon/.julia/packages/MCTS/iKnNr/src/visualization.jl:38\n  ...",
      "",
      "Stacktrace:",
      " [1] top-level scope at In[25]:6"
     ]
    }
   ],
   "source": [
    "using D3Trees\n",
    "mdp = laneChangeMDP()\n",
    "state = initialstate(mdp, MersenneTwister(0))\n",
    "solver = MCTSSolver(n_iterations=500, depth=20, exploration_constant=10.0)\n",
    "planner = solve(solver, mdp)\n",
    "D3Tree(policy, planner, init_expand=2)"
   ]
  },
  {
   "cell_type": "code",
   "execution_count": 70,
   "metadata": {},
   "outputs": [
    {
     "name": "stdout",
     "output_type": "stream",
     "text": [
      "length(scenes) = 199\n"
     ]
    },
    {
     "data": {
      "text/plain": [
       "199"
      ]
     },
     "execution_count": 70,
     "metadata": {},
     "output_type": "execute_result"
    }
   ],
   "source": [
    "@show length(scenes)"
   ]
  },
  {
   "cell_type": "code",
   "execution_count": 82,
   "metadata": {},
   "outputs": [
    {
     "name": "stdout",
     "output_type": "stream",
     "text": [
      "((scenes[1])[2]).state.v = 6.9397749279404e-310\n"
     ]
    },
    {
     "data": {
      "text/plain": [
       "6.9397749279404e-310"
      ]
     },
     "execution_count": 82,
     "metadata": {},
     "output_type": "execute_result"
    }
   ],
   "source": [
    "@show scenes[1][2].state.v"
   ]
  },
  {
   "cell_type": "code",
   "execution_count": 6,
   "metadata": {},
   "outputs": [],
   "source": [
    "using Reel"
   ]
  },
  {
   "cell_type": "code",
   "execution_count": 7,
   "metadata": {},
   "outputs": [
    {
     "data": {
      "text/plain": [
       "animate_record (generic function with 3 methods)"
      ]
     },
     "execution_count": 7,
     "metadata": {},
     "output_type": "execute_result"
    }
   ],
   "source": [
    "function animate_record(scenes::Vector{Scene},dt::Float64, roadway::Roadway{Float64}, car_colors=Dict{Int,Colorant}(1 => colorant\"0x52E3F6\"), cam=FitToContentCamera())\n",
    "    duration =size(scenes)[1]*dt::Float64\n",
    "    fps = Int(1/dt)\n",
    "    function render_rec(t, dt)\n",
    "        frame_index = Int(floor(t/dt)) + 1\n",
    "        return render(scenes[frame_index], roadway, cam=cam, car_colors=car_colors)\n",
    "    end\n",
    "    return duration, fps, render_rec\n",
    "end"
   ]
  },
  {
   "cell_type": "code",
   "execution_count": 431,
   "metadata": {},
   "outputs": [
    {
     "data": {
      "text/plain": [
       "\"simulation.mp4\""
      ]
     },
     "execution_count": 431,
     "metadata": {},
     "output_type": "execute_result"
    }
   ],
   "source": [
    "duration, fps, render_hist = animate_record(scenes, 0.05, roadway)\n",
    "film = roll(render_hist, fps = fps, duration = duration)\n",
    "write(\"simulation.mp4\", film)"
   ]
  },
  {
   "cell_type": "code",
   "execution_count": null,
   "metadata": {},
   "outputs": [],
   "source": []
  }
 ],
 "metadata": {
  "@webio": {
   "lastCommId": null,
   "lastKernelId": null
  },
  "kernelspec": {
   "display_name": "Julia 1.2.0",
   "language": "julia",
   "name": "julia-1.2"
  },
  "language_info": {
   "file_extension": ".jl",
   "mimetype": "application/julia",
   "name": "julia",
   "version": "1.2.0"
  }
 },
 "nbformat": 4,
 "nbformat_minor": 2
}
