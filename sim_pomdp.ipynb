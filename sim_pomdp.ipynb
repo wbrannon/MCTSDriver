{
 "cells": [
  {
   "cell_type": "code",
   "execution_count": 206,
   "metadata": {},
   "outputs": [
    {
     "data": {
      "text/plain": [
       "simulate_pomdp (generic function with 1 method)"
      ]
     },
     "execution_count": 206,
     "metadata": {},
     "output_type": "execute_result"
    }
   ],
   "source": [
    "include(\"sim.jl\")"
   ]
  },
  {
   "cell_type": "code",
   "execution_count": 207,
   "metadata": {},
   "outputs": [
    {
     "name": "stdout",
     "output_type": "stream",
     "text": [
      "\"collision\" = \"collision\"\n",
      "r = -15755.091434460155\n",
      " 41.907611 seconds (170.31 M allocations: 14.631 GiB, 5.08% gc time)\n"
     ]
    },
    {
     "data": {
      "text/plain": [
       "(Roadway, DPWPlanner{laneChangeMDP,Frame{Entity{VehicleState,VehicleDef,Int64}},Int64,MCTS.SolvedRolloutEstimator{RandomPolicy{Random._GLOBAL_RNG,laneChangeMDP,BeliefUpdaters.NothingUpdater},Random._GLOBAL_RNG},RandomActionGenerator{Random._GLOBAL_RNG},Random._GLOBAL_RNG}(DPWSolver(20, 5.0, 500, Inf, 10.0, 0.5, 4.0, 0.125, false, true, true, true, false, Random._GLOBAL_RNG(), RolloutEstimator(RandomSolver(Random._GLOBAL_RNG())), 0.0, 0, RandomActionGenerator{Random._GLOBAL_RNG}(Random._GLOBAL_RNG()), ExceptionRethrow()), laneChangeMDP\n",
       "  env: laneChangeEnvironment\n",
       "  discount_factor: Float64 0.95\n",
       "  terminal_state: Bool true\n",
       "  collision: Bool false\n",
       "  starting_velocity: Float64 20.0\n",
       "  timestep: Float64 0.05\n",
       "  model: lat_lon_driver\n",
       "  driver_models: Dict{Int64,DriverModel}\n",
       "  recommended_low_speed: Float64 18.0\n",
       "  recommended_high_speed: Float64 25.0\n",
       ", MCTS.DPWTree{Frame{Entity{VehicleState,VehicleDef,Int64}},Int64}([500, 0, 0, 0, 0, 67, 0, 0, 47, 45  …  0, 0, 0, 0, 0, 0, 0, 0, 0, 0], Array{Int64,1}[[1, 2, 3, 4, 5, 6, 8, 9, 34], [], [], [], [], [14, 17, 20, 28, 39, 41, 51, 70, 76], [], [], [19, 21, 25, 30, 40, 43, 55, 69, 98], [22, 23, 27, 29, 47, 54, 73, 120, 155]  …  [], [], [], [], [], [], [], [], [], []], Frame{Entity{VehicleState,VehicleDef,Int64}}[Scene(with 20 cars), Scene(with 20 cars), Scene(with 20 cars), Scene(with 20 cars), Scene(with 20 cars), Scene(with 20 cars), Scene(with 20 cars), Scene(with 20 cars), Scene(with 20 cars), Scene(with 20 cars)  …  Scene(with 20 cars), Scene(with 20 cars), Scene(with 20 cars), Scene(with 20 cars), Scene(with 20 cars), Scene(with 20 cars), Scene(with 20 cars), Scene(with 20 cars), Scene(with 20 cars), Scene(with 20 cars)], Dict(Scene(with 20 cars) => 243,Scene(with 20 cars) => 138,Scene(with 20 cars) => 277,Scene(with 20 cars) => 176,Scene(with 20 cars) => 363,Scene(with 20 cars) => 497,Scene(with 20 cars) => 250,Scene(with 20 cars) => 248,Scene(with 20 cars) => 95,Scene(with 20 cars) => 145…), [1, 2, 1, 1, 489, 1, 59, 2, 2, 7  …  1, 1, 1, 1, 1, 1, 1, 1, 2, 1], [-105059.22676242923, -101396.67716519692, -93012.93905866267, -99112.30883185776, -67159.37283688126, -106904.48842567792, -50646.06391780764, -73634.5279533489, -88626.56598365448, -58791.08330979745  …  -29402.249567504085, -8590.833136896237, -34496.88724094448, -28665.300013106673, 11808.930509467522, -62765.83348010175, 15705.596840250273, -117074.35955628971, -32653.99173464602, -38942.75246154065], Array{Tuple{Int64,Float64},1}[[(2, -10084.133709701848)], [(3, -10093.842729481341), (7, -10087.915886074932)], [(4, -10079.641268723251)], [(5, -10075.227757459066)], [(6, -10075.227757459066), (9, -10078.165535785804), (10, -10078.165535785804), (11, -10078.165535785804), (12, -10075.227757459066), (14, -10084.035319536304), (38, -10086.967133789087), (101, -10075.227757459066), (269, -10095.748966761166)], [(8, -10075.148521907578)], [(13, -10077.07880970855), (78, -10075.604014701086), (80, -10074.916651126716), (131, -10077.07880970855), (143, -10072.652995106484), (148, -10072.652995106484), (254, -10072.652995106484)], [(15, -10092.824075806042), (18, -10078.165535785804)], [(16, -10095.825538398742), (17, -10084.928330958137)], [(19, -10079.949059105802), (133, -10079.949059105802), (190, -10079.949059105802), (192, -10079.949059105802), (200, -10082.897245903745), (374, -10079.949059105802)]  …  [(486, -10090.977509760984)], [(487, -10079.164639924255)], [(488, -10073.401063794166)], [(489, -10070.310694434287)], [(490, -10071.970311509675)], [(491, -10079.083350593804)], [(493, -10073.42388463796)], [(495, -10078.926149161622)], [(496, -10083.604649596473), (497, -10080.706317970838)], [(498, -10072.000103903376)]], [3, 7, 1, 6, 5, 2, 4, 4, 8, 6  …  8, 2, 7, 2, 5, 1, 4, 7, 4, 4], Dict((254, 6) => 248,(305, 2) => 264,(6, 9) => 39,(69, 2) => 105,(63, 7) => 161,(13, 9) => 122,(9, 1) => 40,(169, 7) => 89,(143, 2) => 99,(101, 6) => 72…), [1, 2, 1, 1, 9, 1, 7, 2, 2, 6  …  1, 1, 1, 1, 1, 1, 1, 1, 2, 1], Set(Tuple{Int64,Int64}[(196, 352), (115, 213), (91, 314), (74, 430), (86, 166), (292, 489), (48, 68), (287, 483), (261, 450), (82, 159)  …  (98, 240), (204, 367), (64, 342), (83, 162), (102, 501), (132, 246), (68, 127), (228, 403), (268, 459), (98, 194)])), MCTS.SolvedRolloutEstimator{RandomPolicy{Random._GLOBAL_RNG,laneChangeMDP,BeliefUpdaters.NothingUpdater},Random._GLOBAL_RNG}(RandomPolicy{Random._GLOBAL_RNG,laneChangeMDP,BeliefUpdaters.NothingUpdater}(Random._GLOBAL_RNG(), laneChangeMDP\n",
       "  env: laneChangeEnvironment\n",
       "  discount_factor: Float64 0.95\n",
       "  terminal_state: Bool true\n",
       "  collision: Bool false\n",
       "  starting_velocity: Float64 20.0\n",
       "  timestep: Float64 0.05\n",
       "  model: lat_lon_driver\n",
       "  driver_models: Dict{Int64,DriverModel}\n",
       "  recommended_low_speed: Float64 18.0\n",
       "  recommended_high_speed: Float64 25.0\n",
       ", BeliefUpdaters.NothingUpdater()), Random._GLOBAL_RNG()), RandomActionGenerator{Random._GLOBAL_RNG}(Random._GLOBAL_RNG()), Random._GLOBAL_RNG()), Frame{Entity{VehicleState,VehicleDef,Int64}}[Scene(with 20 cars), Scene(with 20 cars), Scene(with 20 cars), Scene(with 20 cars), Scene(with 20 cars), Scene(with 20 cars), Scene(with 20 cars), Scene(with 20 cars), Scene(with 20 cars), Scene(with 20 cars)  …  Scene(with 20 cars), Scene(with 20 cars), Scene(with 20 cars), Scene(with 20 cars), Scene(with 20 cars), Scene(with 20 cars), Scene(with 20 cars), Scene(with 20 cars), Scene(with 20 cars), Scene(with 20 cars)], Any[0.0, 0.0, 0.0, 0.0, 0.0, 0.0, 0.0, 0.0, 0.0, 0.0  …  0.17067725670655784, 0.17620622875890224, 0.1808449318145154, 0.1846230493195694, 0.18757127895538764, 0.1897210922353418, 0.19110454129628227, 0.19175410624052366, 0.19170257655403355, 0.1909829604588244])"
      ]
     },
     "execution_count": 207,
     "metadata": {},
     "output_type": "execute_result"
    }
   ],
   "source": [
    "@time roadway, policy, scenes, headings = simulate_pomdp()"
   ]
  },
  {
   "cell_type": "code",
   "execution_count": 208,
   "metadata": {},
   "outputs": [
    {
     "name": "stdout",
     "output_type": "stream",
     "text": [
      "(get_lane(roadway, (scenes[end])[1])).tag.lane = 3\n",
      "length(scenes) = 136\n"
     ]
    },
    {
     "data": {
      "image/png": "[encoded data removed]",
      "text/plain": [
       "Cairo.CairoSurfaceIOStream{UInt32}(Ptr{Nothing} @0x00000000ae706be0, 1000.0, 600.0, IOBuffer(data=UInt8[...], readable=true, writable=true, seekable=true, append=false, size=0, maxsize=Inf, ptr=1, mark=-1))"
      ]
     },
     "execution_count": 208,
     "metadata": {},
     "output_type": "execute_result"
    }
   ],
   "source": [
    "@show get_lane(roadway, scenes[end][1]).tag.lane\n",
    "@show length(scenes)\n",
    "car_colors = Dict{Int,Colorant}(1 => colorant\"0x52E3F6\")\n",
    "render(scenes[end], roadway, cam = FitToContentCamera(), car_colors=car_colors) # CarFollowCamera(1)"
   ]
  },
  {
   "cell_type": "code",
   "execution_count": 209,
   "metadata": {},
   "outputs": [
    {
     "data": {
      "image/png": "[encoded data removed]",
      "text/plain": [
       "Cairo.CairoSurfaceIOStream{UInt32}(Ptr{Nothing} @0x000000001b3d99c0, 1000.0, 600.0, IOBuffer(data=UInt8[...], readable=true, writable=true, seekable=true, append=false, size=0, maxsize=Inf, ptr=1, mark=-1))"
      ]
     },
     "execution_count": 209,
     "metadata": {},
     "output_type": "execute_result"
    }
   ],
   "source": [
    "# car_colors = Dict{Int,Colorant}(1 => colorant\"0x52E3F6\")\n",
    "render(scenes[1], roadway, cam = FitToContentCamera(), car_colors=car_colors) # CarFollowCamera(1)"
   ]
  },
  {
   "cell_type": "code",
   "execution_count": 210,
   "metadata": {},
   "outputs": [
    {
     "data": {
      "image/svg+xml": [
       "<?xml version=\"1.0\" encoding=\"utf-8\"?>\n",
       "<svg xmlns=\"http://www.w3.org/2000/svg\" xmlns:xlink=\"http://www.w3.org/1999/xlink\" width=\"600\" height=\"400\" viewBox=\"0 0 2400 1600\">\n",
       "<defs>\n",
       "  <clipPath id=\"clip3500\">\n",
       "    <rect x=\"0\" y=\"0\" width=\"2400\" height=\"1600\"/>\n",
       "  </clipPath>\n",
       "</defs>\n",
       "<path clip-path=\"url(#clip3500)\" d=\"\n",
       "M0 1600 L2400 1600 L2400 0 L0 0  Z\n",
       "  \" fill=\"#ffffff\" fill-rule=\"evenodd\" fill-opacity=\"1\"/>\n",
       "<defs>\n",
       "  <clipPath id=\"clip3501\">\n",
       "    <rect x=\"480\" y=\"0\" width=\"1681\" height=\"1600\"/>\n",
       "  </clipPath>\n",
       "</defs>\n",
       "<path clip-path=\"url(#clip3500)\" d=\"\n",
       "M180.66 1487.47 L2352.76 1487.47 L2352.76 47.2441 L180.66 47.2441  Z\n",
       "  \" fill=\"#ffffff\" fill-rule=\"evenodd\" fill-opacity=\"1\"/>\n",
       "<defs>\n",
       "  <clipPath id=\"clip3502\">\n",
       "    <rect x=\"180\" y=\"47\" width=\"2173\" height=\"1441\"/>\n",
       "  </clipPath>\n",
       "</defs>\n",
       "<polyline clip-path=\"url(#clip3502)\" style=\"stroke:#000000; stroke-width:2; stroke-opacity:0.1; fill:none\" points=\"\n",
       "  226.843,1487.47 226.843,47.2441 \n",
       "  \"/>\n",
       "<polyline clip-path=\"url(#clip3502)\" style=\"stroke:#000000; stroke-width:2; stroke-opacity:0.1; fill:none\" points=\"\n",
       "  532.685,1487.47 532.685,47.2441 \n",
       "  \"/>\n",
       "<polyline clip-path=\"url(#clip3502)\" style=\"stroke:#000000; stroke-width:2; stroke-opacity:0.1; fill:none\" points=\"\n",
       "  838.528,1487.47 838.528,47.2441 \n",
       "  \"/>\n",
       "<polyline clip-path=\"url(#clip3502)\" style=\"stroke:#000000; stroke-width:2; stroke-opacity:0.1; fill:none\" points=\"\n",
       "  1144.37,1487.47 1144.37,47.2441 \n",
       "  \"/>\n",
       "<polyline clip-path=\"url(#clip3502)\" style=\"stroke:#000000; stroke-width:2; stroke-opacity:0.1; fill:none\" points=\"\n",
       "  1450.21,1487.47 1450.21,47.2441 \n",
       "  \"/>\n",
       "<polyline clip-path=\"url(#clip3502)\" style=\"stroke:#000000; stroke-width:2; stroke-opacity:0.1; fill:none\" points=\"\n",
       "  1756.06,1487.47 1756.06,47.2441 \n",
       "  \"/>\n",
       "<polyline clip-path=\"url(#clip3502)\" style=\"stroke:#000000; stroke-width:2; stroke-opacity:0.1; fill:none\" points=\"\n",
       "  2061.9,1487.47 2061.9,47.2441 \n",
       "  \"/>\n",
       "<polyline clip-path=\"url(#clip3502)\" style=\"stroke:#000000; stroke-width:2; stroke-opacity:0.1; fill:none\" points=\"\n",
       "  180.66,1353.92 2352.76,1353.92 \n",
       "  \"/>\n",
       "<polyline clip-path=\"url(#clip3502)\" style=\"stroke:#000000; stroke-width:2; stroke-opacity:0.1; fill:none\" points=\"\n",
       "  180.66,1023.83 2352.76,1023.83 \n",
       "  \"/>\n",
       "<polyline clip-path=\"url(#clip3502)\" style=\"stroke:#000000; stroke-width:2; stroke-opacity:0.1; fill:none\" points=\"\n",
       "  180.66,693.746 2352.76,693.746 \n",
       "  \"/>\n",
       "<polyline clip-path=\"url(#clip3502)\" style=\"stroke:#000000; stroke-width:2; stroke-opacity:0.1; fill:none\" points=\"\n",
       "  180.66,363.657 2352.76,363.657 \n",
       "  \"/>\n",
       "<polyline clip-path=\"url(#clip3500)\" style=\"stroke:#000000; stroke-width:4; stroke-opacity:1; fill:none\" points=\"\n",
       "  180.66,1487.47 2352.76,1487.47 \n",
       "  \"/>\n",
       "<polyline clip-path=\"url(#clip3500)\" style=\"stroke:#000000; stroke-width:4; stroke-opacity:1; fill:none\" points=\"\n",
       "  180.66,1487.47 180.66,47.2441 \n",
       "  \"/>\n",
       "<polyline clip-path=\"url(#clip3500)\" style=\"stroke:#000000; stroke-width:4; stroke-opacity:1; fill:none\" points=\"\n",
       "  226.843,1487.47 226.843,1470.19 \n",
       "  \"/>\n",
       "<polyline clip-path=\"url(#clip3500)\" style=\"stroke:#000000; stroke-width:4; stroke-opacity:1; fill:none\" points=\"\n",
       "  532.685,1487.47 532.685,1470.19 \n",
       "  \"/>\n",
       "<polyline clip-path=\"url(#clip3500)\" style=\"stroke:#000000; stroke-width:4; stroke-opacity:1; fill:none\" points=\"\n",
       "  838.528,1487.47 838.528,1470.19 \n",
       "  \"/>\n",
       "<polyline clip-path=\"url(#clip3500)\" style=\"stroke:#000000; stroke-width:4; stroke-opacity:1; fill:none\" points=\"\n",
       "  1144.37,1487.47 1144.37,1470.19 \n",
       "  \"/>\n",
       "<polyline clip-path=\"url(#clip3500)\" style=\"stroke:#000000; stroke-width:4; stroke-opacity:1; fill:none\" points=\"\n",
       "  1450.21,1487.47 1450.21,1470.19 \n",
       "  \"/>\n",
       "<polyline clip-path=\"url(#clip3500)\" style=\"stroke:#000000; stroke-width:4; stroke-opacity:1; fill:none\" points=\"\n",
       "  1756.06,1487.47 1756.06,1470.19 \n",
       "  \"/>\n",
       "<polyline clip-path=\"url(#clip3500)\" style=\"stroke:#000000; stroke-width:4; stroke-opacity:1; fill:none\" points=\"\n",
       "  2061.9,1487.47 2061.9,1470.19 \n",
       "  \"/>\n",
       "<polyline clip-path=\"url(#clip3500)\" style=\"stroke:#000000; stroke-width:4; stroke-opacity:1; fill:none\" points=\"\n",
       "  180.66,1353.92 206.725,1353.92 \n",
       "  \"/>\n",
       "<polyline clip-path=\"url(#clip3500)\" style=\"stroke:#000000; stroke-width:4; stroke-opacity:1; fill:none\" points=\"\n",
       "  180.66,1023.83 206.725,1023.83 \n",
       "  \"/>\n",
       "<polyline clip-path=\"url(#clip3500)\" style=\"stroke:#000000; stroke-width:4; stroke-opacity:1; fill:none\" points=\"\n",
       "  180.66,693.746 206.725,693.746 \n",
       "  \"/>\n",
       "<polyline clip-path=\"url(#clip3500)\" style=\"stroke:#000000; stroke-width:4; stroke-opacity:1; fill:none\" points=\"\n",
       "  180.66,363.657 206.725,363.657 \n",
       "  \"/>\n",
       "<g clip-path=\"url(#clip3500)\">\n",
       "<text style=\"fill:#000000; fill-opacity:1; font-family:Arial,Helvetica Neue,Helvetica,sans-serif; font-size:48px; text-anchor:middle;\" transform=\"rotate(0, 226.843, 1541.47)\" x=\"226.843\" y=\"1541.47\">0</text>\n",
       "</g>\n",
       "<g clip-path=\"url(#clip3500)\">\n",
       "<text style=\"fill:#000000; fill-opacity:1; font-family:Arial,Helvetica Neue,Helvetica,sans-serif; font-size:48px; text-anchor:middle;\" transform=\"rotate(0, 532.685, 1541.47)\" x=\"532.685\" y=\"1541.47\">20</text>\n",
       "</g>\n",
       "<g clip-path=\"url(#clip3500)\">\n",
       "<text style=\"fill:#000000; fill-opacity:1; font-family:Arial,Helvetica Neue,Helvetica,sans-serif; font-size:48px; text-anchor:middle;\" transform=\"rotate(0, 838.528, 1541.47)\" x=\"838.528\" y=\"1541.47\">40</text>\n",
       "</g>\n",
       "<g clip-path=\"url(#clip3500)\">\n",
       "<text style=\"fill:#000000; fill-opacity:1; font-family:Arial,Helvetica Neue,Helvetica,sans-serif; font-size:48px; text-anchor:middle;\" transform=\"rotate(0, 1144.37, 1541.47)\" x=\"1144.37\" y=\"1541.47\">60</text>\n",
       "</g>\n",
       "<g clip-path=\"url(#clip3500)\">\n",
       "<text style=\"fill:#000000; fill-opacity:1; font-family:Arial,Helvetica Neue,Helvetica,sans-serif; font-size:48px; text-anchor:middle;\" transform=\"rotate(0, 1450.21, 1541.47)\" x=\"1450.21\" y=\"1541.47\">80</text>\n",
       "</g>\n",
       "<g clip-path=\"url(#clip3500)\">\n",
       "<text style=\"fill:#000000; fill-opacity:1; font-family:Arial,Helvetica Neue,Helvetica,sans-serif; font-size:48px; text-anchor:middle;\" transform=\"rotate(0, 1756.06, 1541.47)\" x=\"1756.06\" y=\"1541.47\">100</text>\n",
       "</g>\n",
       "<g clip-path=\"url(#clip3500)\">\n",
       "<text style=\"fill:#000000; fill-opacity:1; font-family:Arial,Helvetica Neue,Helvetica,sans-serif; font-size:48px; text-anchor:middle;\" transform=\"rotate(0, 2061.9, 1541.47)\" x=\"2061.9\" y=\"1541.47\">120</text>\n",
       "</g>\n",
       "<g clip-path=\"url(#clip3500)\">\n",
       "<text style=\"fill:#000000; fill-opacity:1; font-family:Arial,Helvetica Neue,Helvetica,sans-serif; font-size:48px; text-anchor:end;\" transform=\"rotate(0, 156.66, 1371.42)\" x=\"156.66\" y=\"1371.42\">0.00</text>\n",
       "</g>\n",
       "<g clip-path=\"url(#clip3500)\">\n",
       "<text style=\"fill:#000000; fill-opacity:1; font-family:Arial,Helvetica Neue,Helvetica,sans-serif; font-size:48px; text-anchor:end;\" transform=\"rotate(0, 156.66, 1041.33)\" x=\"156.66\" y=\"1041.33\">0.05</text>\n",
       "</g>\n",
       "<g clip-path=\"url(#clip3500)\">\n",
       "<text style=\"fill:#000000; fill-opacity:1; font-family:Arial,Helvetica Neue,Helvetica,sans-serif; font-size:48px; text-anchor:end;\" transform=\"rotate(0, 156.66, 711.246)\" x=\"156.66\" y=\"711.246\">0.10</text>\n",
       "</g>\n",
       "<g clip-path=\"url(#clip3500)\">\n",
       "<text style=\"fill:#000000; fill-opacity:1; font-family:Arial,Helvetica Neue,Helvetica,sans-serif; font-size:48px; text-anchor:end;\" transform=\"rotate(0, 156.66, 381.157)\" x=\"156.66\" y=\"381.157\">0.15</text>\n",
       "</g>\n",
       "<polyline clip-path=\"url(#clip3502)\" style=\"stroke:#009af9; stroke-width:4; stroke-opacity:1; fill:none\" points=\"\n",
       "  242.135,1353.92 257.427,1353.92 272.719,1353.92 288.011,1353.92 303.303,1353.92 318.595,1353.92 333.888,1353.92 349.18,1353.92 364.472,1353.92 379.764,1353.92 \n",
       "  395.056,1353.92 410.348,1353.92 425.64,1353.92 440.933,1353.92 456.225,1353.92 471.517,1353.92 486.809,1353.92 502.101,1353.92 517.393,1353.92 532.685,1353.92 \n",
       "  547.978,1353.92 563.27,1353.92 578.562,1353.92 593.854,1353.92 609.146,1353.92 624.438,1353.92 639.73,1353.92 655.023,1353.92 670.315,1353.92 685.607,1353.92 \n",
       "  700.899,1353.92 716.191,1353.92 731.483,1353.92 746.775,1353.92 762.067,1353.92 777.36,1353.92 792.652,1353.92 807.944,1353.92 823.236,1353.92 838.528,1353.92 \n",
       "  853.82,1353.92 869.112,1353.92 884.405,1353.92 899.697,1353.92 914.989,1353.92 930.281,1353.92 945.573,1353.92 960.865,1353.92 976.157,1353.92 991.45,1353.92 \n",
       "  1006.74,1353.92 1022.03,1353.92 1037.33,1353.92 1052.62,1353.92 1067.91,1353.92 1083.2,1353.92 1098.49,1353.92 1113.79,1353.92 1129.08,1353.92 1144.37,1353.92 \n",
       "  1159.66,1353.92 1174.96,1353.92 1190.25,1353.92 1205.54,1353.92 1220.83,1353.92 1236.12,1353.92 1251.42,1353.92 1266.71,1353.92 1282,1353.92 1297.29,1353.92 \n",
       "  1312.58,1353.92 1327.88,1353.92 1343.17,1353.92 1358.46,1353.92 1373.75,1353.92 1389.05,1266.04 1404.34,1182.15 1419.63,1102.44 1434.92,1027.01 1450.21,955.963 \n",
       "  1465.51,889.38 1480.8,827.303 1496.09,769.754 1511.38,716.736 1526.67,668.231 1541.97,624.203 1557.26,584.602 1572.55,549.362 1587.84,518.406 1603.14,491.644 \n",
       "  1618.43,565.42 1633.72,638.671 1649.01,711.133 1664.3,782.557 1679.6,852.706 1694.89,921.362 1710.18,988.32 1725.47,1053.39 1740.76,1116.03 1756.06,1176.73 \n",
       "  1771.35,1235.36 1786.64,1291.78 1801.93,1345.88 1817.23,1397.55 1832.52,1446.71 1847.81,1296.82 1863.1,1153.31 1878.39,1016.6 1893.69,887.027 1908.98,764.842 \n",
       "  1924.27,650.228 1939.56,543.298 1954.85,444.106 1970.15,456.159 1985.44,470.935 2000.73,488.246 2016.02,507.906 2031.32,529.73 2046.61,553.533 2061.9,579.135 \n",
       "  2077.19,503.927 2092.48,435.493 2107.78,373.733 2123.07,318.523 2138.36,269.716 2153.65,227.15 2168.94,190.649 2184.24,160.025 2199.53,135.083 2214.82,115.619 \n",
       "  2230.11,101.427 2245.41,92.2936 2260.7,88.0053 2275.99,88.3455 2291.28,93.0963 \n",
       "  \"/>\n",
       "<path clip-path=\"url(#clip3500)\" d=\"\n",
       "M1989.93 251.724 L2280.76 251.724 L2280.76 130.764 L1989.93 130.764  Z\n",
       "  \" fill=\"#ffffff\" fill-rule=\"evenodd\" fill-opacity=\"1\"/>\n",
       "<polyline clip-path=\"url(#clip3500)\" style=\"stroke:#000000; stroke-width:4; stroke-opacity:1; fill:none\" points=\"\n",
       "  1989.93,251.724 2280.76,251.724 2280.76,130.764 1989.93,130.764 1989.93,251.724 \n",
       "  \"/>\n",
       "<polyline clip-path=\"url(#clip3500)\" style=\"stroke:#009af9; stroke-width:4; stroke-opacity:1; fill:none\" points=\"\n",
       "  2013.93,191.244 2157.93,191.244 \n",
       "  \"/>\n",
       "<g clip-path=\"url(#clip3500)\">\n",
       "<text style=\"fill:#000000; fill-opacity:1; font-family:Arial,Helvetica Neue,Helvetica,sans-serif; font-size:48px; text-anchor:start;\" transform=\"rotate(0, 2181.93, 208.744)\" x=\"2181.93\" y=\"208.744\">y1</text>\n",
       "</g>\n",
       "</svg>\n"
      ]
     },
     "execution_count": 210,
     "metadata": {},
     "output_type": "execute_result"
    }
   ],
   "source": [
    "plot(headings)"
   ]
  },
  {
   "cell_type": "code",
   "execution_count": 211,
   "metadata": {},
   "outputs": [
    {
     "data": {
      "image/svg+xml": [
       "<?xml version=\"1.0\" encoding=\"utf-8\"?>\n",
       "<svg xmlns=\"http://www.w3.org/2000/svg\" xmlns:xlink=\"http://www.w3.org/1999/xlink\" width=\"600\" height=\"400\" viewBox=\"0 0 2400 1600\">\n",
       "<defs>\n",
       "  <clipPath id=\"clip3900\">\n",
       "    <rect x=\"0\" y=\"0\" width=\"2400\" height=\"1600\"/>\n",
       "  </clipPath>\n",
       "</defs>\n",
       "<path clip-path=\"url(#clip3900)\" d=\"\n",
       "M0 1600 L2400 1600 L2400 0 L0 0  Z\n",
       "  \" fill=\"#ffffff\" fill-rule=\"evenodd\" fill-opacity=\"1\"/>\n",
       "<defs>\n",
       "  <clipPath id=\"clip3901\">\n",
       "    <rect x=\"480\" y=\"0\" width=\"1681\" height=\"1600\"/>\n",
       "  </clipPath>\n",
       "</defs>\n",
       "<path clip-path=\"url(#clip3900)\" d=\"\n",
       "M140.517 1487.47 L2352.76 1487.47 L2352.76 47.2441 L140.517 47.2441  Z\n",
       "  \" fill=\"#ffffff\" fill-rule=\"evenodd\" fill-opacity=\"1\"/>\n",
       "<defs>\n",
       "  <clipPath id=\"clip3902\">\n",
       "    <rect x=\"140\" y=\"47\" width=\"2213\" height=\"1441\"/>\n",
       "  </clipPath>\n",
       "</defs>\n",
       "<polyline clip-path=\"url(#clip3902)\" style=\"stroke:#000000; stroke-width:2; stroke-opacity:0.1; fill:none\" points=\"\n",
       "  187.668,1487.47 187.668,47.2441 \n",
       "  \"/>\n",
       "<polyline clip-path=\"url(#clip3902)\" style=\"stroke:#000000; stroke-width:2; stroke-opacity:0.1; fill:none\" points=\"\n",
       "  574.153,1487.47 574.153,47.2441 \n",
       "  \"/>\n",
       "<polyline clip-path=\"url(#clip3902)\" style=\"stroke:#000000; stroke-width:2; stroke-opacity:0.1; fill:none\" points=\"\n",
       "  960.638,1487.47 960.638,47.2441 \n",
       "  \"/>\n",
       "<polyline clip-path=\"url(#clip3902)\" style=\"stroke:#000000; stroke-width:2; stroke-opacity:0.1; fill:none\" points=\"\n",
       "  1347.12,1487.47 1347.12,47.2441 \n",
       "  \"/>\n",
       "<polyline clip-path=\"url(#clip3902)\" style=\"stroke:#000000; stroke-width:2; stroke-opacity:0.1; fill:none\" points=\"\n",
       "  1733.61,1487.47 1733.61,47.2441 \n",
       "  \"/>\n",
       "<polyline clip-path=\"url(#clip3902)\" style=\"stroke:#000000; stroke-width:2; stroke-opacity:0.1; fill:none\" points=\"\n",
       "  2120.09,1487.47 2120.09,47.2441 \n",
       "  \"/>\n",
       "<polyline clip-path=\"url(#clip3902)\" style=\"stroke:#000000; stroke-width:2; stroke-opacity:0.1; fill:none\" points=\"\n",
       "  140.517,1254.54 2352.76,1254.54 \n",
       "  \"/>\n",
       "<polyline clip-path=\"url(#clip3902)\" style=\"stroke:#000000; stroke-width:2; stroke-opacity:0.1; fill:none\" points=\"\n",
       "  140.517,1021.23 2352.76,1021.23 \n",
       "  \"/>\n",
       "<polyline clip-path=\"url(#clip3902)\" style=\"stroke:#000000; stroke-width:2; stroke-opacity:0.1; fill:none\" points=\"\n",
       "  140.517,787.926 2352.76,787.926 \n",
       "  \"/>\n",
       "<polyline clip-path=\"url(#clip3902)\" style=\"stroke:#000000; stroke-width:2; stroke-opacity:0.1; fill:none\" points=\"\n",
       "  140.517,554.619 2352.76,554.619 \n",
       "  \"/>\n",
       "<polyline clip-path=\"url(#clip3902)\" style=\"stroke:#000000; stroke-width:2; stroke-opacity:0.1; fill:none\" points=\"\n",
       "  140.517,321.312 2352.76,321.312 \n",
       "  \"/>\n",
       "<polyline clip-path=\"url(#clip3902)\" style=\"stroke:#000000; stroke-width:2; stroke-opacity:0.1; fill:none\" points=\"\n",
       "  140.517,88.0053 2352.76,88.0053 \n",
       "  \"/>\n",
       "<polyline clip-path=\"url(#clip3900)\" style=\"stroke:#000000; stroke-width:4; stroke-opacity:1; fill:none\" points=\"\n",
       "  140.517,1487.47 2352.76,1487.47 \n",
       "  \"/>\n",
       "<polyline clip-path=\"url(#clip3900)\" style=\"stroke:#000000; stroke-width:4; stroke-opacity:1; fill:none\" points=\"\n",
       "  140.517,1487.47 140.517,47.2441 \n",
       "  \"/>\n",
       "<polyline clip-path=\"url(#clip3900)\" style=\"stroke:#000000; stroke-width:4; stroke-opacity:1; fill:none\" points=\"\n",
       "  187.668,1487.47 187.668,1470.19 \n",
       "  \"/>\n",
       "<polyline clip-path=\"url(#clip3900)\" style=\"stroke:#000000; stroke-width:4; stroke-opacity:1; fill:none\" points=\"\n",
       "  574.153,1487.47 574.153,1470.19 \n",
       "  \"/>\n",
       "<polyline clip-path=\"url(#clip3900)\" style=\"stroke:#000000; stroke-width:4; stroke-opacity:1; fill:none\" points=\"\n",
       "  960.638,1487.47 960.638,1470.19 \n",
       "  \"/>\n",
       "<polyline clip-path=\"url(#clip3900)\" style=\"stroke:#000000; stroke-width:4; stroke-opacity:1; fill:none\" points=\"\n",
       "  1347.12,1487.47 1347.12,1470.19 \n",
       "  \"/>\n",
       "<polyline clip-path=\"url(#clip3900)\" style=\"stroke:#000000; stroke-width:4; stroke-opacity:1; fill:none\" points=\"\n",
       "  1733.61,1487.47 1733.61,1470.19 \n",
       "  \"/>\n",
       "<polyline clip-path=\"url(#clip3900)\" style=\"stroke:#000000; stroke-width:4; stroke-opacity:1; fill:none\" points=\"\n",
       "  2120.09,1487.47 2120.09,1470.19 \n",
       "  \"/>\n",
       "<polyline clip-path=\"url(#clip3900)\" style=\"stroke:#000000; stroke-width:4; stroke-opacity:1; fill:none\" points=\"\n",
       "  140.517,1254.54 167.064,1254.54 \n",
       "  \"/>\n",
       "<polyline clip-path=\"url(#clip3900)\" style=\"stroke:#000000; stroke-width:4; stroke-opacity:1; fill:none\" points=\"\n",
       "  140.517,1021.23 167.064,1021.23 \n",
       "  \"/>\n",
       "<polyline clip-path=\"url(#clip3900)\" style=\"stroke:#000000; stroke-width:4; stroke-opacity:1; fill:none\" points=\"\n",
       "  140.517,787.926 167.064,787.926 \n",
       "  \"/>\n",
       "<polyline clip-path=\"url(#clip3900)\" style=\"stroke:#000000; stroke-width:4; stroke-opacity:1; fill:none\" points=\"\n",
       "  140.517,554.619 167.064,554.619 \n",
       "  \"/>\n",
       "<polyline clip-path=\"url(#clip3900)\" style=\"stroke:#000000; stroke-width:4; stroke-opacity:1; fill:none\" points=\"\n",
       "  140.517,321.312 167.064,321.312 \n",
       "  \"/>\n",
       "<polyline clip-path=\"url(#clip3900)\" style=\"stroke:#000000; stroke-width:4; stroke-opacity:1; fill:none\" points=\"\n",
       "  140.517,88.0053 167.064,88.0053 \n",
       "  \"/>\n",
       "<g clip-path=\"url(#clip3900)\">\n",
       "<text style=\"fill:#000000; fill-opacity:1; font-family:Arial,Helvetica Neue,Helvetica,sans-serif; font-size:48px; text-anchor:middle;\" transform=\"rotate(0, 187.668, 1541.47)\" x=\"187.668\" y=\"1541.47\">0</text>\n",
       "</g>\n",
       "<g clip-path=\"url(#clip3900)\">\n",
       "<text style=\"fill:#000000; fill-opacity:1; font-family:Arial,Helvetica Neue,Helvetica,sans-serif; font-size:48px; text-anchor:middle;\" transform=\"rotate(0, 574.153, 1541.47)\" x=\"574.153\" y=\"1541.47\">25</text>\n",
       "</g>\n",
       "<g clip-path=\"url(#clip3900)\">\n",
       "<text style=\"fill:#000000; fill-opacity:1; font-family:Arial,Helvetica Neue,Helvetica,sans-serif; font-size:48px; text-anchor:middle;\" transform=\"rotate(0, 960.638, 1541.47)\" x=\"960.638\" y=\"1541.47\">50</text>\n",
       "</g>\n",
       "<g clip-path=\"url(#clip3900)\">\n",
       "<text style=\"fill:#000000; fill-opacity:1; font-family:Arial,Helvetica Neue,Helvetica,sans-serif; font-size:48px; text-anchor:middle;\" transform=\"rotate(0, 1347.12, 1541.47)\" x=\"1347.12\" y=\"1541.47\">75</text>\n",
       "</g>\n",
       "<g clip-path=\"url(#clip3900)\">\n",
       "<text style=\"fill:#000000; fill-opacity:1; font-family:Arial,Helvetica Neue,Helvetica,sans-serif; font-size:48px; text-anchor:middle;\" transform=\"rotate(0, 1733.61, 1541.47)\" x=\"1733.61\" y=\"1541.47\">100</text>\n",
       "</g>\n",
       "<g clip-path=\"url(#clip3900)\">\n",
       "<text style=\"fill:#000000; fill-opacity:1; font-family:Arial,Helvetica Neue,Helvetica,sans-serif; font-size:48px; text-anchor:middle;\" transform=\"rotate(0, 2120.09, 1541.47)\" x=\"2120.09\" y=\"1541.47\">125</text>\n",
       "</g>\n",
       "<g clip-path=\"url(#clip3900)\">\n",
       "<text style=\"fill:#000000; fill-opacity:1; font-family:Arial,Helvetica Neue,Helvetica,sans-serif; font-size:48px; text-anchor:end;\" transform=\"rotate(0, 116.517, 1272.04)\" x=\"116.517\" y=\"1272.04\">15</text>\n",
       "</g>\n",
       "<g clip-path=\"url(#clip3900)\">\n",
       "<text style=\"fill:#000000; fill-opacity:1; font-family:Arial,Helvetica Neue,Helvetica,sans-serif; font-size:48px; text-anchor:end;\" transform=\"rotate(0, 116.517, 1038.73)\" x=\"116.517\" y=\"1038.73\">16</text>\n",
       "</g>\n",
       "<g clip-path=\"url(#clip3900)\">\n",
       "<text style=\"fill:#000000; fill-opacity:1; font-family:Arial,Helvetica Neue,Helvetica,sans-serif; font-size:48px; text-anchor:end;\" transform=\"rotate(0, 116.517, 805.426)\" x=\"116.517\" y=\"805.426\">17</text>\n",
       "</g>\n",
       "<g clip-path=\"url(#clip3900)\">\n",
       "<text style=\"fill:#000000; fill-opacity:1; font-family:Arial,Helvetica Neue,Helvetica,sans-serif; font-size:48px; text-anchor:end;\" transform=\"rotate(0, 116.517, 572.119)\" x=\"116.517\" y=\"572.119\">18</text>\n",
       "</g>\n",
       "<g clip-path=\"url(#clip3900)\">\n",
       "<text style=\"fill:#000000; fill-opacity:1; font-family:Arial,Helvetica Neue,Helvetica,sans-serif; font-size:48px; text-anchor:end;\" transform=\"rotate(0, 116.517, 338.812)\" x=\"116.517\" y=\"338.812\">19</text>\n",
       "</g>\n",
       "<g clip-path=\"url(#clip3900)\">\n",
       "<text style=\"fill:#000000; fill-opacity:1; font-family:Arial,Helvetica Neue,Helvetica,sans-serif; font-size:48px; text-anchor:end;\" transform=\"rotate(0, 116.517, 105.505)\" x=\"116.517\" y=\"105.505\">20</text>\n",
       "</g>\n",
       "<polyline clip-path=\"url(#clip3902)\" style=\"stroke:#009af9; stroke-width:4; stroke-opacity:1; fill:none\" points=\"\n",
       "  203.127,88.0053 218.587,99.6707 234.046,111.336 249.506,123.001 264.965,134.667 280.424,146.332 295.884,157.997 311.343,169.663 326.802,181.328 342.262,169.663 \n",
       "  357.721,157.997 373.181,146.332 388.64,134.667 404.099,123.001 419.559,111.336 435.018,99.6707 450.478,99.6707 465.937,99.6707 481.396,99.6707 496.856,99.6707 \n",
       "  512.315,99.6707 527.775,99.6707 543.234,99.6707 558.693,99.6707 574.153,111.336 589.612,123.001 605.072,134.667 620.531,146.332 635.99,157.997 651.45,169.663 \n",
       "  666.909,181.328 682.369,204.659 697.828,227.989 713.287,251.32 728.747,274.651 744.206,297.981 759.665,321.312 775.125,344.643 790.584,367.973 806.044,391.304 \n",
       "  821.503,414.635 836.962,437.965 852.422,461.296 867.881,484.627 883.341,507.957 898.8,531.288 914.259,554.619 929.719,577.949 945.178,601.28 960.638,624.611 \n",
       "  976.097,647.941 991.556,671.272 1007.02,694.603 1022.48,717.934 1037.93,717.934 1053.39,717.934 1068.85,717.934 1084.31,717.934 1099.77,717.934 1115.23,717.934 \n",
       "  1130.69,717.934 1146.15,717.934 1161.61,717.934 1177.07,717.934 1192.53,717.934 1207.99,717.934 1223.45,717.934 1238.91,717.934 1254.37,717.934 1269.83,729.599 \n",
       "  1285.28,741.264 1300.74,752.93 1316.2,764.595 1331.66,776.26 1347.12,787.926 1362.58,799.591 1378.04,821.52 1393.5,842.256 1408.96,862.002 1424.42,880.952 \n",
       "  1439.88,899.293 1455.34,917.2 1470.8,934.836 1486.26,952.35 1501.72,969.878 1517.18,987.538 1532.64,1005.44 1548.09,1023.66 1563.55,1042.29 1579.01,1061.38 \n",
       "  1594.47,1080.97 1609.93,1090.83 1625.39,1099.67 1640.85,1107.5 1656.31,1114.35 1671.77,1120.23 1687.23,1125.19 1702.69,1129.27 1718.15,1132.53 1733.61,1146.68 \n",
       "  1749.07,1160.13 1764.53,1172.94 1779.99,1185.18 1795.44,1196.92 1810.9,1208.21 1826.36,1219.14 1841.82,1241.08 1857.28,1259.77 1872.74,1275.73 1888.2,1289.44 \n",
       "  1903.66,1301.39 1919.12,1312.03 1934.58,1321.77 1950.04,1331.02 1965.5,1332.73 1980.96,1334.79 1996.42,1337.16 2011.88,1339.78 2027.34,1342.61 2042.8,1345.61 \n",
       "  2058.25,1348.73 2073.71,1350.44 2089.17,1352.34 2104.63,1354.62 2120.09,1357.44 2135.55,1360.94 2151.01,1365.23 2166.47,1370.41 2181.93,1376.53 2197.39,1383.63 \n",
       "  2212.85,1391.73 2228.31,1400.83 2243.77,1410.92 2259.23,1421.96 2274.69,1433.91 2290.15,1446.71 \n",
       "  \"/>\n",
       "<path clip-path=\"url(#clip3900)\" d=\"\n",
       "M1989.93 251.724 L2280.76 251.724 L2280.76 130.764 L1989.93 130.764  Z\n",
       "  \" fill=\"#ffffff\" fill-rule=\"evenodd\" fill-opacity=\"1\"/>\n",
       "<polyline clip-path=\"url(#clip3900)\" style=\"stroke:#000000; stroke-width:4; stroke-opacity:1; fill:none\" points=\"\n",
       "  1989.93,251.724 2280.76,251.724 2280.76,130.764 1989.93,130.764 1989.93,251.724 \n",
       "  \"/>\n",
       "<polyline clip-path=\"url(#clip3900)\" style=\"stroke:#009af9; stroke-width:4; stroke-opacity:1; fill:none\" points=\"\n",
       "  2013.93,191.244 2157.93,191.244 \n",
       "  \"/>\n",
       "<g clip-path=\"url(#clip3900)\">\n",
       "<text style=\"fill:#000000; fill-opacity:1; font-family:Arial,Helvetica Neue,Helvetica,sans-serif; font-size:48px; text-anchor:start;\" transform=\"rotate(0, 2181.93, 208.744)\" x=\"2181.93\" y=\"208.744\">y1</text>\n",
       "</g>\n",
       "</svg>\n"
      ]
     },
     "execution_count": 211,
     "metadata": {},
     "output_type": "execute_result"
    }
   ],
   "source": [
    "vels = []\n",
    "for i=1:length(scenes)\n",
    "    push!(vels, scenes[i][1].state.v)\n",
    "end\n",
    "plot(vels)"
   ]
  },
  {
   "cell_type": "code",
   "execution_count": 101,
   "metadata": {},
   "outputs": [
    {
     "name": "stdout",
     "output_type": "stream",
     "text": [
      "\"finish line\" = \"finish line\"\n",
      "r = 10694.776696129053\n",
      " 10.483654 seconds (86.78 M allocations: 7.282 GiB, 7.98% gc time)\n",
      "\"finish line\" = \"finish line\"\n",
      "r = 11920.73456197077\n",
      " 16.657638 seconds (146.53 M allocations: 12.261 GiB, 8.54% gc time)\n",
      "\"timeout\" = \"timeout\"\n",
      "r = -72813.50000000003\n",
      " 86.122304 seconds (803.86 M allocations: 65.651 GiB, 8.00% gc time)\n",
      "\"finish line\" = \"finish line\"\n",
      "r = 10471.024717441149\n",
      " 17.357303 seconds (156.08 M allocations: 13.207 GiB, 6.90% gc time)\n",
      "\"finish line\" = \"finish line\"\n",
      "r = 10925.510173580471\n",
      " 10.125778 seconds (86.20 M allocations: 7.252 GiB, 10.75% gc time)\n",
      "\"timeout\" = \"timeout\"\n",
      "r = -45415.42154655492\n",
      " 79.240517 seconds (702.91 M allocations: 59.665 GiB, 8.12% gc time)\n",
      "\"collision\" = \"collision\"\n",
      "r = -15962.194538178686\n",
      " 17.054473 seconds (157.15 M allocations: 13.085 GiB, 7.01% gc time)\n",
      "\"collision\" = \"collision\"\n",
      "r = -20751.670013408846\n",
      " 22.106082 seconds (194.95 M allocations: 16.394 GiB, 8.65% gc time)\n",
      "\"collision\" = \"collision\"\n",
      "r = -12537.56745238669\n",
      " 21.763144 seconds (188.11 M allocations: 16.185 GiB, 7.99% gc time)\n"
     ]
    },
    {
     "ename": "InterruptException",
     "evalue": "InterruptException:",
     "output_type": "error",
     "traceback": [
      "InterruptException:",
      "",
      "Stacktrace:",
      " [1] gen(::laneChangeMDP, ::Frame{Entity{VehicleState,VehicleDef,Int64}}, ::Int64, ::Random._GLOBAL_RNG) at /home/wbrannon/qualcomm/lane_change_mdp.jl:115",
      " [2] macro expansion at /home/wbrannon/.julia/packages/POMDPs/XDCTo/src/gen_impl.jl:30 [inlined]",
      " [3] macro expansion at ./none:0 [inlined]",
      " [4] genout(::DDNOut{(:sp, :r)}, ::DDNStructure{NamedTuple{(:s, :a, :sp, :r),Tuple{InputDDNNode,InputDDNNode,DistributionDDNNode{typeof(transition)},FunctionDDNNode{typeof(reward)}}},NamedTuple{(:s, :a, :sp, :r),Tuple{Tuple{},Tuple{},Tuple{DDNNode{:s},DDNNode{:a}},Tuple{DDNNode{:s},DDNNode{:a},DDNNode{:sp}}}}}, ::laneChangeMDP, ::Frame{Entity{VehicleState,VehicleDef,Int64}}, ::Int64, ::Random._GLOBAL_RNG) at ./none:0",
      " [5] macro expansion at /home/wbrannon/.julia/packages/POMDPs/XDCTo/src/gen_impl.jl:19 [inlined]",
      " [6] gen(::DDNOut{(:sp, :r)}, ::laneChangeMDP, ::Frame{Entity{VehicleState,VehicleDef,Int64}}, ::Int64, ::Random._GLOBAL_RNG) at /home/wbrannon/.julia/packages/POMDPs/XDCTo/src/gen_impl.jl:4",
      " [7] simulate(::RolloutSimulator{Random._GLOBAL_RNG}, ::laneChangeMDP, ::RandomPolicy{Random._GLOBAL_RNG,laneChangeMDP,BeliefUpdaters.NothingUpdater}, ::Frame{Entity{VehicleState,VehicleDef,Int64}}) at /home/wbrannon/.julia/packages/POMDPSimulators/4scij/src/rollout.jl:169",
      " [8] estimate_value(::MCTS.SolvedRolloutEstimator{RandomPolicy{Random._GLOBAL_RNG,laneChangeMDP,BeliefUpdaters.NothingUpdater},Random._GLOBAL_RNG}, ::laneChangeMDP, ::Frame{Entity{VehicleState,VehicleDef,Int64}}, ::Int64) at /home/wbrannon/.julia/packages/MCTS/eX6AJ/src/domain_knowledge.jl:54",
      " [9] simulate(::DPWPlanner{laneChangeMDP,Frame{Entity{VehicleState,VehicleDef,Int64}},Int64,MCTS.SolvedRolloutEstimator{RandomPolicy{Random._GLOBAL_RNG,laneChangeMDP,BeliefUpdaters.NothingUpdater},Random._GLOBAL_RNG},RandomActionGenerator{Random._GLOBAL_RNG},Random._GLOBAL_RNG}, ::Int64, ::Int64) at /home/wbrannon/.julia/packages/MCTS/eX6AJ/src/dpw.jl:168",
      " [10] #action_info#7(::Bool, ::typeof(action_info), ::DPWPlanner{laneChangeMDP,Frame{Entity{VehicleState,VehicleDef,Int64}},Int64,MCTS.SolvedRolloutEstimator{RandomPolicy{Random._GLOBAL_RNG,laneChangeMDP,BeliefUpdaters.NothingUpdater},Random._GLOBAL_RNG},RandomActionGenerator{Random._GLOBAL_RNG},Random._GLOBAL_RNG}, ::Frame{Entity{VehicleState,VehicleDef,Int64}}) at /home/wbrannon/.julia/packages/MCTS/eX6AJ/src/dpw.jl:53",
      " [11] action_info at /home/wbrannon/.julia/packages/MCTS/eX6AJ/src/dpw.jl:19 [inlined]",
      " [12] action(::DPWPlanner{laneChangeMDP,Frame{Entity{VehicleState,VehicleDef,Int64}},Int64,MCTS.SolvedRolloutEstimator{RandomPolicy{Random._GLOBAL_RNG,laneChangeMDP,BeliefUpdaters.NothingUpdater},Random._GLOBAL_RNG},RandomActionGenerator{Random._GLOBAL_RNG},Random._GLOBAL_RNG}, ::Frame{Entity{VehicleState,VehicleDef,Int64}}) at /home/wbrannon/.julia/packages/MCTS/eX6AJ/src/dpw.jl:13",
      " [13] simulate_pomdp() at /home/wbrannon/qualcomm/sim.jl:36",
      " [14] top-level scope at ./util.jl:155"
     ]
    }
   ],
   "source": [
    "num_goal = 0\n",
    "num_fail = 0\n",
    "num_collisions = 0\n",
    "num_timeouts = 0\n",
    "nlanes = 4\n",
    "ntrials = 100\n",
    "vehicle_width = scenes[end][1].def.width\n",
    "lane_break_distance = DEFAULT_LANE_WIDTH / 2 - vehicle_width / 2\n",
    "for i = 1:ntrials\n",
    "    @time roadway, policy, scenes = simulate_pomdp()\n",
    "    if get_lane(roadway, scenes[end][1].state).tag.lane == nlanes && abs(scenes[end][1].state.posF.ϕ) < pi/6 && abs(scenes[end][1].state.posF.t) < lane_break_distance\n",
    "        num_goal += 1\n",
    "    else\n",
    "        num_fail += 1\n",
    "        if collision_checker(scenes[end], EGO_ID) \n",
    "            num_collisions += 1\n",
    "        else\n",
    "            num_timeouts += 1\n",
    "        end\n",
    "    end\n",
    "end"
   ]
  },
  {
   "cell_type": "code",
   "execution_count": 92,
   "metadata": {},
   "outputs": [
    {
     "name": "stdout",
     "output_type": "stream",
     "text": [
      "num_goal = 34\n",
      "num_fail = 41\n",
      "num_collisions = 25\n",
      "num_timeouts = 16\n"
     ]
    },
    {
     "data": {
      "text/plain": [
       "16"
      ]
     },
     "execution_count": 92,
     "metadata": {},
     "output_type": "execute_result"
    }
   ],
   "source": [
    "@show num_goal\n",
    "@show num_fail\n",
    "@show num_collisions\n",
    "@show num_timeouts"
   ]
  },
  {
   "cell_type": "code",
   "execution_count": null,
   "metadata": {},
   "outputs": [],
   "source": [
    "# d 20, c 5, i 500: 2-8\n",
    "# d 50, c 5, i 500: 0-10\n",
    "# d 20, c 10, i 500: 3-7\n",
    "# d 20, c 15, i 500: 3-7\n",
    "# d 20, c 10, i 750: 0-10"
   ]
  },
  {
   "cell_type": "code",
   "execution_count": 25,
   "metadata": {},
   "outputs": [
    {
     "ename": "MethodError",
     "evalue": "MethodError: no method matching D3Tree(::DPWPlanner{laneChangeMDP,Frame{Entity{VehicleState,VehicleDef,Int64}},Int64,MCTS.SolvedRolloutEstimator{RandomPolicy{MersenneTwister,laneChangeMDP,BeliefUpdaters.NothingUpdater},MersenneTwister},RandomActionGenerator{MersenneTwister},MersenneTwister}, ::MCTSPlanner{laneChangeMDP,Frame{Entity{VehicleState,VehicleDef,Int64}},Int64,MCTS.SolvedRolloutEstimator{RandomPolicy{MersenneTwister,laneChangeMDP,BeliefUpdaters.NothingUpdater},MersenneTwister},MersenneTwister}; init_expand=2)\nClosest candidates are:\n  D3Tree(::Any, ::Any, !Matched::Any, !Matched::Any, !Matched::Any, !Matched::Any, !Matched::Any) at /Users/williambrannon/.julia/packages/D3Trees/CDEyE/src/D3Trees.jl:20 got unsupported keyword argument \"init_expand\"\n  D3Tree(!Matched::MCTSPlanner, ::Any; kwargs...) at /Users/williambrannon/.julia/packages/MCTS/iKnNr/src/visualization.jl:16\n  D3Tree(::DPWPlanner; kwargs...) at /Users/williambrannon/.julia/packages/MCTS/iKnNr/src/visualization.jl:38\n  ...",
     "output_type": "error",
     "traceback": [
      "MethodError: no method matching D3Tree(::DPWPlanner{laneChangeMDP,Frame{Entity{VehicleState,VehicleDef,Int64}},Int64,MCTS.SolvedRolloutEstimator{RandomPolicy{MersenneTwister,laneChangeMDP,BeliefUpdaters.NothingUpdater},MersenneTwister},RandomActionGenerator{MersenneTwister},MersenneTwister}, ::MCTSPlanner{laneChangeMDP,Frame{Entity{VehicleState,VehicleDef,Int64}},Int64,MCTS.SolvedRolloutEstimator{RandomPolicy{MersenneTwister,laneChangeMDP,BeliefUpdaters.NothingUpdater},MersenneTwister},MersenneTwister}; init_expand=2)\nClosest candidates are:\n  D3Tree(::Any, ::Any, !Matched::Any, !Matched::Any, !Matched::Any, !Matched::Any, !Matched::Any) at /Users/williambrannon/.julia/packages/D3Trees/CDEyE/src/D3Trees.jl:20 got unsupported keyword argument \"init_expand\"\n  D3Tree(!Matched::MCTSPlanner, ::Any; kwargs...) at /Users/williambrannon/.julia/packages/MCTS/iKnNr/src/visualization.jl:16\n  D3Tree(::DPWPlanner; kwargs...) at /Users/williambrannon/.julia/packages/MCTS/iKnNr/src/visualization.jl:38\n  ...",
      "",
      "Stacktrace:",
      " [1] top-level scope at In[25]:6"
     ]
    }
   ],
   "source": [
    "using D3Trees\n",
    "mdp = laneChangeMDP()\n",
    "state = initialstate(mdp, MersenneTwister(0))\n",
    "solver = MCTSSolver(n_iterations=500, depth=20, exploration_constant=10.0)\n",
    "planner = solve(solver, mdp)\n",
    "D3Tree(policy, planner, init_expand=2)"
   ]
  },
  {
   "cell_type": "code",
   "execution_count": 70,
   "metadata": {},
   "outputs": [
    {
     "name": "stdout",
     "output_type": "stream",
     "text": [
      "length(scenes) = 199\n"
     ]
    },
    {
     "data": {
      "text/plain": [
       "199"
      ]
     },
     "execution_count": 70,
     "metadata": {},
     "output_type": "execute_result"
    }
   ],
   "source": [
    "@show length(scenes)"
   ]
  },
  {
   "cell_type": "code",
   "execution_count": 82,
   "metadata": {},
   "outputs": [
    {
     "name": "stdout",
     "output_type": "stream",
     "text": [
      "((scenes[1])[2]).state.v = 6.9397749279404e-310\n"
     ]
    },
    {
     "data": {
      "text/plain": [
       "6.9397749279404e-310"
      ]
     },
     "execution_count": 82,
     "metadata": {},
     "output_type": "execute_result"
    }
   ],
   "source": [
    "@show scenes[1][2].state.v"
   ]
  },
  {
   "cell_type": "code",
   "execution_count": 59,
   "metadata": {},
   "outputs": [
    {
     "name": "stdout",
     "output_type": "stream",
     "text": [
      "\u001b[32m\u001b[1m Resolving\u001b[22m\u001b[39m package versions...\n",
      "\u001b[32m\u001b[1m  Updating\u001b[22m\u001b[39m `~/.julia/environments/v1.3/Project.toml`\n",
      " \u001b[90m [71555da5]\u001b[39m\u001b[92m + Reel v1.1.1\u001b[39m\n",
      "\u001b[32m\u001b[1m  Updating\u001b[22m\u001b[39m `~/.julia/environments/v1.3/Manifest.toml`\n",
      "\u001b[90m [no changes]\u001b[39m\n"
     ]
    }
   ],
   "source": [
    "using Reel"
   ]
  },
  {
   "cell_type": "code",
   "execution_count": 60,
   "metadata": {},
   "outputs": [
    {
     "data": {
      "text/plain": [
       "animate_record (generic function with 3 methods)"
      ]
     },
     "execution_count": 60,
     "metadata": {},
     "output_type": "execute_result"
    }
   ],
   "source": [
    "function animate_record(scenes::Vector{Scene},dt::Float64, roadway::Roadway{Float64}, car_colors=Dict{Int,Colorant}(1 => colorant\"0x52E3F6\"), cam=FitToContentCamera())\n",
    "    duration =size(scenes)[1]*dt::Float64\n",
    "    fps = Int(1/dt)\n",
    "    function render_rec(t, dt)\n",
    "        frame_index = Int(floor(t/dt)) + 1\n",
    "        return render(scenes[frame_index], roadway, cam=cam, car_colors=car_colors)\n",
    "    end\n",
    "    return duration, fps, render_rec\n",
    "end"
   ]
  },
  {
   "cell_type": "code",
   "execution_count": 205,
   "metadata": {},
   "outputs": [
    {
     "data": {
      "text/plain": [
       "\"simulation.mp4\""
      ]
     },
     "execution_count": 205,
     "metadata": {},
     "output_type": "execute_result"
    }
   ],
   "source": [
    "duration, fps, render_hist = animate_record(scenes, 0.05, roadway)\n",
    "film = roll(render_hist, fps = fps, duration = duration)\n",
    "write(\"simulation.mp4\", film)"
   ]
  },
  {
   "cell_type": "code",
   "execution_count": null,
   "metadata": {},
   "outputs": [],
   "source": []
  }
 ],
 "metadata": {
  "@webio": {
   "lastCommId": null,
   "lastKernelId": null
  },
  "kernelspec": {
   "display_name": "Julia 1.3.1",
   "language": "julia",
   "name": "julia-1.3"
  },
  "language_info": {
   "file_extension": ".jl",
   "mimetype": "application/julia",
   "name": "julia",
   "version": "1.3.1"
  }
 },
 "nbformat": 4,
 "nbformat_minor": 2
}
